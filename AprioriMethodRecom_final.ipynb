{
 "cells": [
  {
   "cell_type": "code",
   "execution_count": null,
   "id": "81dd2bc7-5a8e-48af-9060-4ce70b76d4a1",
   "metadata": {
    "id": "81dd2bc7-5a8e-48af-9060-4ce70b76d4a1"
   },
   "outputs": [],
   "source": []
  },
  {
   "cell_type": "code",
   "execution_count": 90,
   "id": "G-6YPTnbEV8D",
   "metadata": {
    "colab": {
     "base_uri": "https://localhost:8080/"
    },
    "id": "G-6YPTnbEV8D",
    "outputId": "f941c3b3-f948-4690-b843-5f1d739cc745"
   },
   "outputs": [
    {
     "name": "stdout",
     "output_type": "stream",
     "text": [
      "Drive already mounted at /content/drive; to attempt to forcibly remount, call drive.mount(\"/content/drive\", force_remount=True).\n"
     ]
    }
   ],
   "source": [
    "from google.colab import drive\n",
    "drive.mount('/content/drive')"
   ]
  },
  {
   "cell_type": "code",
   "execution_count": 91,
   "id": "ca22a211-281f-49b4-a03c-7e586093935b",
   "metadata": {
    "colab": {
     "base_uri": "https://localhost:8080/"
    },
    "id": "ca22a211-281f-49b4-a03c-7e586093935b",
    "outputId": "e234c6c9-1c19-43c9-d2b9-bb4009ae6fb4"
   },
   "outputs": [
    {
     "data": {
      "text/plain": [
       "True"
      ]
     },
     "execution_count": 91,
     "metadata": {},
     "output_type": "execute_result"
    }
   ],
   "source": [
    "import os\n",
    "\n",
    "os.path.isfile(\"/content/drive/MyDrive/Online Retail.xlsx\")"
   ]
  },
  {
   "cell_type": "code",
   "execution_count": 92,
   "id": "IhBI5BhKEwjq",
   "metadata": {
    "id": "IhBI5BhKEwjq"
   },
   "outputs": [],
   "source": [
    "FILE_PATH = \"/content/drive/MyDrive/Online Retail.xlsx\""
   ]
  },
  {
   "cell_type": "markdown",
   "id": "7175065f-aea4-4c74-ab06-0eef78be27d6",
   "metadata": {
    "id": "7175065f-aea4-4c74-ab06-0eef78be27d6"
   },
   "source": [
    "### Data Set Information:\n",
    "\n",
    "`url https://archive.ics.uci.edu/ml/datasets/online+retail`\n",
    "\n",
    "- This is a transnational data set which contains all the transactions occurring between 01/12/2010 and 09/12/2011 for a UK-based and registered non-store online retail.The company mainly sells unique all-occasion gifts. Many customers of the company are wholesalers.\n",
    "\n",
    "\n",
    "### Attribute Information:\n",
    "\n",
    "- InvoiceNo: Invoice number. Nominal, a 6-digit integral number uniquely assigned to each transaction. If this code starts with letter 'c', it indicates a cancellation.\n",
    "- StockCode: Product (item) code. Nominal, a 5-digit integral number uniquely assigned to each distinct product.\n",
    "- Description: Product (item) name. Nominal.\n",
    "- Quantity: The quantities of each product (item) per transaction. Numeric.\n",
    "- InvoiceDate: Invice Date and time. Numeric, the day and time when each transaction was generated.\n",
    "- UnitPrice: Unit price. Numeric, Product price per unit in sterling.\n",
    "CustomerID: Customer number. Nominal, a 5-digit integral number uniquely assigned to each customer.\n",
    "- Country: Country name. Nominal, the name of the country where each customer resides."
   ]
  },
  {
   "cell_type": "code",
   "execution_count": 93,
   "id": "eed8c50e-e0b3-4334-8821-6b8c1f398ffd",
   "metadata": {
    "id": "eed8c50e-e0b3-4334-8821-6b8c1f398ffd"
   },
   "outputs": [],
   "source": [
    "# import libraries required\n",
    "import pandas as pd\n",
    "import numpy as np\n",
    "import os\n",
    "import re\n",
    "import json\n",
    "import seaborn as sns\n",
    "import matplotlib.pyplot as plt\n",
    "\n",
    "# import apriori algorithm modules i.e apriori and its asssociation rules\n",
    "from mlxtend.frequent_patterns import apriori, association_rules\n",
    "\n",
    "# skewness and normalization libs\n",
    "from scipy.stats import skew\n",
    "from scipy.special import boxcox1p\n",
    "from scipy.stats import boxcox_normmax\n",
    "\n",
    "import warnings\n",
    "warnings.filterwarnings(\"ignore\")"
   ]
  },
  {
   "cell_type": "code",
   "execution_count": 94,
   "id": "f1f73e68-0cec-4275-b163-9c3e28d923ed",
   "metadata": {
    "id": "f1f73e68-0cec-4275-b163-9c3e28d923ed"
   },
   "outputs": [],
   "source": [
    "# read data from csv file\n",
    "df = pd.read_excel(FILE_PATH)"
   ]
  },
  {
   "cell_type": "code",
   "execution_count": 95,
   "id": "07844018-357d-482f-b3b8-defa660d6cb5",
   "metadata": {
    "colab": {
     "base_uri": "https://localhost:8080/"
    },
    "id": "07844018-357d-482f-b3b8-defa660d6cb5",
    "outputId": "db032d2d-8e98-4ed0-f6fc-fc21ee45f0e9"
   },
   "outputs": [
    {
     "data": {
      "text/plain": [
       "(541909, 8)"
      ]
     },
     "execution_count": 95,
     "metadata": {},
     "output_type": "execute_result"
    }
   ],
   "source": [
    "# check dimensions of the dataset\n",
    "df.shape"
   ]
  },
  {
   "cell_type": "code",
   "execution_count": 96,
   "id": "5f4a93bd-d562-4028-a4c1-29f379de680b",
   "metadata": {
    "colab": {
     "base_uri": "https://localhost:8080/",
     "height": 337
    },
    "id": "5f4a93bd-d562-4028-a4c1-29f379de680b",
    "outputId": "8d2eb982-2f83-4f4b-cca2-85954f3632bf"
   },
   "outputs": [
    {
     "data": {
      "text/html": [
       "\n",
       "  <div id=\"df-914c5e7e-9faf-4000-8fb8-63fd3f707b44\">\n",
       "    <div class=\"colab-df-container\">\n",
       "      <div>\n",
       "<style scoped>\n",
       "    .dataframe tbody tr th:only-of-type {\n",
       "        vertical-align: middle;\n",
       "    }\n",
       "\n",
       "    .dataframe tbody tr th {\n",
       "        vertical-align: top;\n",
       "    }\n",
       "\n",
       "    .dataframe thead th {\n",
       "        text-align: right;\n",
       "    }\n",
       "</style>\n",
       "<table border=\"1\" class=\"dataframe\">\n",
       "  <thead>\n",
       "    <tr style=\"text-align: right;\">\n",
       "      <th></th>\n",
       "      <th>InvoiceNo</th>\n",
       "      <th>StockCode</th>\n",
       "      <th>Description</th>\n",
       "      <th>Quantity</th>\n",
       "      <th>InvoiceDate</th>\n",
       "      <th>UnitPrice</th>\n",
       "      <th>CustomerID</th>\n",
       "      <th>Country</th>\n",
       "    </tr>\n",
       "  </thead>\n",
       "  <tbody>\n",
       "    <tr>\n",
       "      <th>378367</th>\n",
       "      <td>569650</td>\n",
       "      <td>22726</td>\n",
       "      <td>ALARM CLOCK BAKELIKE GREEN</td>\n",
       "      <td>50</td>\n",
       "      <td>2011-10-05 12:44:00</td>\n",
       "      <td>3.39</td>\n",
       "      <td>12415.0</td>\n",
       "      <td>Australia</td>\n",
       "    </tr>\n",
       "    <tr>\n",
       "      <th>50194</th>\n",
       "      <td>540550</td>\n",
       "      <td>22849</td>\n",
       "      <td>BREAD BIN DINER STYLE MINT</td>\n",
       "      <td>1</td>\n",
       "      <td>2011-01-10 09:11:00</td>\n",
       "      <td>16.95</td>\n",
       "      <td>12539.0</td>\n",
       "      <td>Spain</td>\n",
       "    </tr>\n",
       "    <tr>\n",
       "      <th>493725</th>\n",
       "      <td>578248</td>\n",
       "      <td>22966</td>\n",
       "      <td>GINGERBREAD MAN COOKIE CUTTER</td>\n",
       "      <td>5</td>\n",
       "      <td>2011-11-23 12:40:00</td>\n",
       "      <td>1.25</td>\n",
       "      <td>16255.0</td>\n",
       "      <td>United Kingdom</td>\n",
       "    </tr>\n",
       "    <tr>\n",
       "      <th>347695</th>\n",
       "      <td>567329</td>\n",
       "      <td>22191</td>\n",
       "      <td>IVORY DINER WALL CLOCK</td>\n",
       "      <td>4</td>\n",
       "      <td>2011-09-19 14:43:00</td>\n",
       "      <td>8.50</td>\n",
       "      <td>13416.0</td>\n",
       "      <td>United Kingdom</td>\n",
       "    </tr>\n",
       "    <tr>\n",
       "      <th>49728</th>\n",
       "      <td>540529</td>\n",
       "      <td>85099B</td>\n",
       "      <td>JUMBO BAG RED RETROSPOT</td>\n",
       "      <td>20</td>\n",
       "      <td>2011-01-09 13:50:00</td>\n",
       "      <td>1.95</td>\n",
       "      <td>16748.0</td>\n",
       "      <td>United Kingdom</td>\n",
       "    </tr>\n",
       "  </tbody>\n",
       "</table>\n",
       "</div>\n",
       "      <button class=\"colab-df-convert\" onclick=\"convertToInteractive('df-914c5e7e-9faf-4000-8fb8-63fd3f707b44')\"\n",
       "              title=\"Convert this dataframe to an interactive table.\"\n",
       "              style=\"display:none;\">\n",
       "        \n",
       "  <svg xmlns=\"http://www.w3.org/2000/svg\" height=\"24px\"viewBox=\"0 0 24 24\"\n",
       "       width=\"24px\">\n",
       "    <path d=\"M0 0h24v24H0V0z\" fill=\"none\"/>\n",
       "    <path d=\"M18.56 5.44l.94 2.06.94-2.06 2.06-.94-2.06-.94-.94-2.06-.94 2.06-2.06.94zm-11 1L8.5 8.5l.94-2.06 2.06-.94-2.06-.94L8.5 2.5l-.94 2.06-2.06.94zm10 10l.94 2.06.94-2.06 2.06-.94-2.06-.94-.94-2.06-.94 2.06-2.06.94z\"/><path d=\"M17.41 7.96l-1.37-1.37c-.4-.4-.92-.59-1.43-.59-.52 0-1.04.2-1.43.59L10.3 9.45l-7.72 7.72c-.78.78-.78 2.05 0 2.83L4 21.41c.39.39.9.59 1.41.59.51 0 1.02-.2 1.41-.59l7.78-7.78 2.81-2.81c.8-.78.8-2.07 0-2.86zM5.41 20L4 18.59l7.72-7.72 1.47 1.35L5.41 20z\"/>\n",
       "  </svg>\n",
       "      </button>\n",
       "      \n",
       "  <style>\n",
       "    .colab-df-container {\n",
       "      display:flex;\n",
       "      flex-wrap:wrap;\n",
       "      gap: 12px;\n",
       "    }\n",
       "\n",
       "    .colab-df-convert {\n",
       "      background-color: #E8F0FE;\n",
       "      border: none;\n",
       "      border-radius: 50%;\n",
       "      cursor: pointer;\n",
       "      display: none;\n",
       "      fill: #1967D2;\n",
       "      height: 32px;\n",
       "      padding: 0 0 0 0;\n",
       "      width: 32px;\n",
       "    }\n",
       "\n",
       "    .colab-df-convert:hover {\n",
       "      background-color: #E2EBFA;\n",
       "      box-shadow: 0px 1px 2px rgba(60, 64, 67, 0.3), 0px 1px 3px 1px rgba(60, 64, 67, 0.15);\n",
       "      fill: #174EA6;\n",
       "    }\n",
       "\n",
       "    [theme=dark] .colab-df-convert {\n",
       "      background-color: #3B4455;\n",
       "      fill: #D2E3FC;\n",
       "    }\n",
       "\n",
       "    [theme=dark] .colab-df-convert:hover {\n",
       "      background-color: #434B5C;\n",
       "      box-shadow: 0px 1px 3px 1px rgba(0, 0, 0, 0.15);\n",
       "      filter: drop-shadow(0px 1px 2px rgba(0, 0, 0, 0.3));\n",
       "      fill: #FFFFFF;\n",
       "    }\n",
       "  </style>\n",
       "\n",
       "      <script>\n",
       "        const buttonEl =\n",
       "          document.querySelector('#df-914c5e7e-9faf-4000-8fb8-63fd3f707b44 button.colab-df-convert');\n",
       "        buttonEl.style.display =\n",
       "          google.colab.kernel.accessAllowed ? 'block' : 'none';\n",
       "\n",
       "        async function convertToInteractive(key) {\n",
       "          const element = document.querySelector('#df-914c5e7e-9faf-4000-8fb8-63fd3f707b44');\n",
       "          const dataTable =\n",
       "            await google.colab.kernel.invokeFunction('convertToInteractive',\n",
       "                                                     [key], {});\n",
       "          if (!dataTable) return;\n",
       "\n",
       "          const docLinkHtml = 'Like what you see? Visit the ' +\n",
       "            '<a target=\"_blank\" href=https://colab.research.google.com/notebooks/data_table.ipynb>data table notebook</a>'\n",
       "            + ' to learn more about interactive tables.';\n",
       "          element.innerHTML = '';\n",
       "          dataTable['output_type'] = 'display_data';\n",
       "          await google.colab.output.renderOutput(dataTable, element);\n",
       "          const docLink = document.createElement('div');\n",
       "          docLink.innerHTML = docLinkHtml;\n",
       "          element.appendChild(docLink);\n",
       "        }\n",
       "      </script>\n",
       "    </div>\n",
       "  </div>\n",
       "  "
      ],
      "text/plain": [
       "       InvoiceNo StockCode                    Description  Quantity  \\\n",
       "378367    569650     22726     ALARM CLOCK BAKELIKE GREEN        50   \n",
       "50194     540550     22849     BREAD BIN DINER STYLE MINT         1   \n",
       "493725    578248     22966  GINGERBREAD MAN COOKIE CUTTER         5   \n",
       "347695    567329     22191         IVORY DINER WALL CLOCK         4   \n",
       "49728     540529    85099B        JUMBO BAG RED RETROSPOT        20   \n",
       "\n",
       "               InvoiceDate  UnitPrice  CustomerID         Country  \n",
       "378367 2011-10-05 12:44:00       3.39     12415.0       Australia  \n",
       "50194  2011-01-10 09:11:00      16.95     12539.0           Spain  \n",
       "493725 2011-11-23 12:40:00       1.25     16255.0  United Kingdom  \n",
       "347695 2011-09-19 14:43:00       8.50     13416.0  United Kingdom  \n",
       "49728  2011-01-09 13:50:00       1.95     16748.0  United Kingdom  "
      ]
     },
     "execution_count": 96,
     "metadata": {},
     "output_type": "execute_result"
    }
   ],
   "source": [
    "# check sample datas\n",
    "df.sample(5)"
   ]
  },
  {
   "cell_type": "code",
   "execution_count": 97,
   "id": "sho1zE1GGTfF",
   "metadata": {
    "colab": {
     "base_uri": "https://localhost:8080/"
    },
    "id": "sho1zE1GGTfF",
    "outputId": "d7a23a48-307e-418c-bf46-4cfb89de60c8"
   },
   "outputs": [
    {
     "data": {
      "text/plain": [
       "Index(['InvoiceNo', 'StockCode', 'Description', 'Quantity', 'InvoiceDate',\n",
       "       'UnitPrice', 'CustomerID', 'Country'],\n",
       "      dtype='object')"
      ]
     },
     "execution_count": 97,
     "metadata": {},
     "output_type": "execute_result"
    }
   ],
   "source": [
    "# check columns available\n",
    "df.columns"
   ]
  },
  {
   "cell_type": "code",
   "execution_count": 98,
   "id": "WuJcH18vGYKE",
   "metadata": {
    "colab": {
     "base_uri": "https://localhost:8080/"
    },
    "id": "WuJcH18vGYKE",
    "outputId": "8443f6b0-de83-41be-ee90-74533cf9f825"
   },
   "outputs": [
    {
     "data": {
      "text/plain": [
       "InvoiceNo              object\n",
       "StockCode              object\n",
       "Description            object\n",
       "Quantity                int64\n",
       "InvoiceDate    datetime64[ns]\n",
       "UnitPrice             float64\n",
       "CustomerID            float64\n",
       "Country                object\n",
       "dtype: object"
      ]
     },
     "execution_count": 98,
     "metadata": {},
     "output_type": "execute_result"
    }
   ],
   "source": [
    "# data types of each column\n",
    "df.dtypes"
   ]
  },
  {
   "cell_type": "code",
   "execution_count": 99,
   "id": "cH16hUhlGeBo",
   "metadata": {
    "colab": {
     "base_uri": "https://localhost:8080/"
    },
    "id": "cH16hUhlGeBo",
    "outputId": "1fbc1e38-b81a-48f7-b78d-2fe8df879579"
   },
   "outputs": [
    {
     "name": "stdout",
     "output_type": "stream",
     "text": [
      "<class 'pandas.core.frame.DataFrame'>\n",
      "RangeIndex: 541909 entries, 0 to 541908\n",
      "Data columns (total 8 columns):\n",
      " #   Column       Non-Null Count   Dtype         \n",
      "---  ------       --------------   -----         \n",
      " 0   InvoiceNo    541909 non-null  object        \n",
      " 1   StockCode    541909 non-null  object        \n",
      " 2   Description  540455 non-null  object        \n",
      " 3   Quantity     541909 non-null  int64         \n",
      " 4   InvoiceDate  541909 non-null  datetime64[ns]\n",
      " 5   UnitPrice    541909 non-null  float64       \n",
      " 6   CustomerID   406829 non-null  float64       \n",
      " 7   Country      541909 non-null  object        \n",
      "dtypes: datetime64[ns](1), float64(2), int64(1), object(4)\n",
      "memory usage: 33.1+ MB\n"
     ]
    }
   ],
   "source": [
    "# ching the data summary\n",
    "df.info()"
   ]
  },
  {
   "cell_type": "code",
   "execution_count": 100,
   "id": "wMdscBpXGpa0",
   "metadata": {
    "colab": {
     "base_uri": "https://localhost:8080/"
    },
    "id": "wMdscBpXGpa0",
    "outputId": "19b47b1a-d15e-4e9b-f3d3-61997c484699"
   },
   "outputs": [
    {
     "data": {
      "text/plain": [
       "InvoiceNo           0\n",
       "StockCode           0\n",
       "Description      1454\n",
       "Quantity            0\n",
       "InvoiceDate         0\n",
       "UnitPrice           0\n",
       "CustomerID     135080\n",
       "Country             0\n",
       "dtype: int64"
      ]
     },
     "execution_count": 100,
     "metadata": {},
     "output_type": "execute_result"
    }
   ],
   "source": [
    "# check all nulls presents\n",
    "df.isna().sum()"
   ]
  },
  {
   "cell_type": "code",
   "execution_count": 101,
   "id": "jam-8FlFG5T6",
   "metadata": {
    "id": "jam-8FlFG5T6"
   },
   "outputs": [],
   "source": [
    "# we drop since we find that CustomerID has nulls and it is one of our focus in order to enable recommentation using colabs methods\n",
    "df.dropna(inplace=True)"
   ]
  },
  {
   "cell_type": "code",
   "execution_count": 102,
   "id": "BUnkV4bDHLYg",
   "metadata": {
    "colab": {
     "base_uri": "https://localhost:8080/"
    },
    "id": "BUnkV4bDHLYg",
    "outputId": "87b3ebbc-6563-4ed5-b172-5a8c961c7df3"
   },
   "outputs": [
    {
     "data": {
      "text/plain": [
       "InvoiceNo      0\n",
       "StockCode      0\n",
       "Description    0\n",
       "Quantity       0\n",
       "InvoiceDate    0\n",
       "UnitPrice      0\n",
       "CustomerID     0\n",
       "Country        0\n",
       "dtype: int64"
      ]
     },
     "execution_count": 102,
     "metadata": {},
     "output_type": "execute_result"
    }
   ],
   "source": [
    "# recheck for nulls presence\n",
    "df.isna().sum()"
   ]
  },
  {
   "cell_type": "code",
   "execution_count": 103,
   "id": "FbSSd_t8HREY",
   "metadata": {
    "colab": {
     "base_uri": "https://localhost:8080/"
    },
    "id": "FbSSd_t8HREY",
    "outputId": "38866689-8bbc-4880-8386-1f7aa57447ba"
   },
   "outputs": [
    {
     "data": {
      "text/plain": [
       "(406829, 8)"
      ]
     },
     "execution_count": 103,
     "metadata": {},
     "output_type": "execute_result"
    }
   ],
   "source": [
    "# check new data dimensions\n",
    "df.shape"
   ]
  },
  {
   "cell_type": "code",
   "execution_count": 104,
   "id": "D331mGuNHWiZ",
   "metadata": {
    "colab": {
     "base_uri": "https://localhost:8080/",
     "height": 143
    },
    "id": "D331mGuNHWiZ",
    "outputId": "17289520-67f8-4882-bc49-2f011fbae576"
   },
   "outputs": [
    {
     "data": {
      "text/html": [
       "\n",
       "  <div id=\"df-08f6329a-1ede-49fe-bd40-42865ee9610e\">\n",
       "    <div class=\"colab-df-container\">\n",
       "      <div>\n",
       "<style scoped>\n",
       "    .dataframe tbody tr th:only-of-type {\n",
       "        vertical-align: middle;\n",
       "    }\n",
       "\n",
       "    .dataframe tbody tr th {\n",
       "        vertical-align: top;\n",
       "    }\n",
       "\n",
       "    .dataframe thead th {\n",
       "        text-align: right;\n",
       "    }\n",
       "</style>\n",
       "<table border=\"1\" class=\"dataframe\">\n",
       "  <thead>\n",
       "    <tr style=\"text-align: right;\">\n",
       "      <th></th>\n",
       "      <th>count</th>\n",
       "      <th>mean</th>\n",
       "      <th>std</th>\n",
       "      <th>min</th>\n",
       "      <th>25%</th>\n",
       "      <th>50%</th>\n",
       "      <th>75%</th>\n",
       "      <th>max</th>\n",
       "    </tr>\n",
       "  </thead>\n",
       "  <tbody>\n",
       "    <tr>\n",
       "      <th>Quantity</th>\n",
       "      <td>406829.0</td>\n",
       "      <td>12.061303</td>\n",
       "      <td>248.693370</td>\n",
       "      <td>-80995.0</td>\n",
       "      <td>2.00</td>\n",
       "      <td>5.00</td>\n",
       "      <td>12.00</td>\n",
       "      <td>80995.0</td>\n",
       "    </tr>\n",
       "    <tr>\n",
       "      <th>UnitPrice</th>\n",
       "      <td>406829.0</td>\n",
       "      <td>3.460471</td>\n",
       "      <td>69.315162</td>\n",
       "      <td>0.0</td>\n",
       "      <td>1.25</td>\n",
       "      <td>1.95</td>\n",
       "      <td>3.75</td>\n",
       "      <td>38970.0</td>\n",
       "    </tr>\n",
       "    <tr>\n",
       "      <th>CustomerID</th>\n",
       "      <td>406829.0</td>\n",
       "      <td>15287.690570</td>\n",
       "      <td>1713.600303</td>\n",
       "      <td>12346.0</td>\n",
       "      <td>13953.00</td>\n",
       "      <td>15152.00</td>\n",
       "      <td>16791.00</td>\n",
       "      <td>18287.0</td>\n",
       "    </tr>\n",
       "  </tbody>\n",
       "</table>\n",
       "</div>\n",
       "      <button class=\"colab-df-convert\" onclick=\"convertToInteractive('df-08f6329a-1ede-49fe-bd40-42865ee9610e')\"\n",
       "              title=\"Convert this dataframe to an interactive table.\"\n",
       "              style=\"display:none;\">\n",
       "        \n",
       "  <svg xmlns=\"http://www.w3.org/2000/svg\" height=\"24px\"viewBox=\"0 0 24 24\"\n",
       "       width=\"24px\">\n",
       "    <path d=\"M0 0h24v24H0V0z\" fill=\"none\"/>\n",
       "    <path d=\"M18.56 5.44l.94 2.06.94-2.06 2.06-.94-2.06-.94-.94-2.06-.94 2.06-2.06.94zm-11 1L8.5 8.5l.94-2.06 2.06-.94-2.06-.94L8.5 2.5l-.94 2.06-2.06.94zm10 10l.94 2.06.94-2.06 2.06-.94-2.06-.94-.94-2.06-.94 2.06-2.06.94z\"/><path d=\"M17.41 7.96l-1.37-1.37c-.4-.4-.92-.59-1.43-.59-.52 0-1.04.2-1.43.59L10.3 9.45l-7.72 7.72c-.78.78-.78 2.05 0 2.83L4 21.41c.39.39.9.59 1.41.59.51 0 1.02-.2 1.41-.59l7.78-7.78 2.81-2.81c.8-.78.8-2.07 0-2.86zM5.41 20L4 18.59l7.72-7.72 1.47 1.35L5.41 20z\"/>\n",
       "  </svg>\n",
       "      </button>\n",
       "      \n",
       "  <style>\n",
       "    .colab-df-container {\n",
       "      display:flex;\n",
       "      flex-wrap:wrap;\n",
       "      gap: 12px;\n",
       "    }\n",
       "\n",
       "    .colab-df-convert {\n",
       "      background-color: #E8F0FE;\n",
       "      border: none;\n",
       "      border-radius: 50%;\n",
       "      cursor: pointer;\n",
       "      display: none;\n",
       "      fill: #1967D2;\n",
       "      height: 32px;\n",
       "      padding: 0 0 0 0;\n",
       "      width: 32px;\n",
       "    }\n",
       "\n",
       "    .colab-df-convert:hover {\n",
       "      background-color: #E2EBFA;\n",
       "      box-shadow: 0px 1px 2px rgba(60, 64, 67, 0.3), 0px 1px 3px 1px rgba(60, 64, 67, 0.15);\n",
       "      fill: #174EA6;\n",
       "    }\n",
       "\n",
       "    [theme=dark] .colab-df-convert {\n",
       "      background-color: #3B4455;\n",
       "      fill: #D2E3FC;\n",
       "    }\n",
       "\n",
       "    [theme=dark] .colab-df-convert:hover {\n",
       "      background-color: #434B5C;\n",
       "      box-shadow: 0px 1px 3px 1px rgba(0, 0, 0, 0.15);\n",
       "      filter: drop-shadow(0px 1px 2px rgba(0, 0, 0, 0.3));\n",
       "      fill: #FFFFFF;\n",
       "    }\n",
       "  </style>\n",
       "\n",
       "      <script>\n",
       "        const buttonEl =\n",
       "          document.querySelector('#df-08f6329a-1ede-49fe-bd40-42865ee9610e button.colab-df-convert');\n",
       "        buttonEl.style.display =\n",
       "          google.colab.kernel.accessAllowed ? 'block' : 'none';\n",
       "\n",
       "        async function convertToInteractive(key) {\n",
       "          const element = document.querySelector('#df-08f6329a-1ede-49fe-bd40-42865ee9610e');\n",
       "          const dataTable =\n",
       "            await google.colab.kernel.invokeFunction('convertToInteractive',\n",
       "                                                     [key], {});\n",
       "          if (!dataTable) return;\n",
       "\n",
       "          const docLinkHtml = 'Like what you see? Visit the ' +\n",
       "            '<a target=\"_blank\" href=https://colab.research.google.com/notebooks/data_table.ipynb>data table notebook</a>'\n",
       "            + ' to learn more about interactive tables.';\n",
       "          element.innerHTML = '';\n",
       "          dataTable['output_type'] = 'display_data';\n",
       "          await google.colab.output.renderOutput(dataTable, element);\n",
       "          const docLink = document.createElement('div');\n",
       "          docLink.innerHTML = docLinkHtml;\n",
       "          element.appendChild(docLink);\n",
       "        }\n",
       "      </script>\n",
       "    </div>\n",
       "  </div>\n",
       "  "
      ],
      "text/plain": [
       "               count          mean          std      min       25%       50%  \\\n",
       "Quantity    406829.0     12.061303   248.693370 -80995.0      2.00      5.00   \n",
       "UnitPrice   406829.0      3.460471    69.315162      0.0      1.25      1.95   \n",
       "CustomerID  406829.0  15287.690570  1713.600303  12346.0  13953.00  15152.00   \n",
       "\n",
       "                 75%      max  \n",
       "Quantity       12.00  80995.0  \n",
       "UnitPrice       3.75  38970.0  \n",
       "CustomerID  16791.00  18287.0  "
      ]
     },
     "execution_count": 104,
     "metadata": {},
     "output_type": "execute_result"
    }
   ],
   "source": [
    "# check numerical stats summary\n",
    "df.describe().T"
   ]
  },
  {
   "cell_type": "code",
   "execution_count": 105,
   "id": "HLWApHG4HZ1z",
   "metadata": {
    "colab": {
     "base_uri": "https://localhost:8080/",
     "height": 337
    },
    "id": "HLWApHG4HZ1z",
    "outputId": "5de02e87-ad2c-49ad-cc6f-562891e14415"
   },
   "outputs": [
    {
     "data": {
      "text/html": [
       "\n",
       "  <div id=\"df-b356108f-6aa7-4ed7-a364-625d4f17099b\">\n",
       "    <div class=\"colab-df-container\">\n",
       "      <div>\n",
       "<style scoped>\n",
       "    .dataframe tbody tr th:only-of-type {\n",
       "        vertical-align: middle;\n",
       "    }\n",
       "\n",
       "    .dataframe tbody tr th {\n",
       "        vertical-align: top;\n",
       "    }\n",
       "\n",
       "    .dataframe thead th {\n",
       "        text-align: right;\n",
       "    }\n",
       "</style>\n",
       "<table border=\"1\" class=\"dataframe\">\n",
       "  <thead>\n",
       "    <tr style=\"text-align: right;\">\n",
       "      <th></th>\n",
       "      <th>InvoiceNo</th>\n",
       "      <th>StockCode</th>\n",
       "      <th>Description</th>\n",
       "      <th>Quantity</th>\n",
       "      <th>InvoiceDate</th>\n",
       "      <th>UnitPrice</th>\n",
       "      <th>CustomerID</th>\n",
       "      <th>Country</th>\n",
       "    </tr>\n",
       "  </thead>\n",
       "  <tbody>\n",
       "    <tr>\n",
       "      <th>0</th>\n",
       "      <td>536365</td>\n",
       "      <td>85123A</td>\n",
       "      <td>WHITE HANGING HEART T-LIGHT HOLDER</td>\n",
       "      <td>6</td>\n",
       "      <td>2010-12-01 08:26:00</td>\n",
       "      <td>2.55</td>\n",
       "      <td>17850.0</td>\n",
       "      <td>United Kingdom</td>\n",
       "    </tr>\n",
       "    <tr>\n",
       "      <th>1</th>\n",
       "      <td>536365</td>\n",
       "      <td>71053</td>\n",
       "      <td>WHITE METAL LANTERN</td>\n",
       "      <td>6</td>\n",
       "      <td>2010-12-01 08:26:00</td>\n",
       "      <td>3.39</td>\n",
       "      <td>17850.0</td>\n",
       "      <td>United Kingdom</td>\n",
       "    </tr>\n",
       "    <tr>\n",
       "      <th>2</th>\n",
       "      <td>536365</td>\n",
       "      <td>84406B</td>\n",
       "      <td>CREAM CUPID HEARTS COAT HANGER</td>\n",
       "      <td>8</td>\n",
       "      <td>2010-12-01 08:26:00</td>\n",
       "      <td>2.75</td>\n",
       "      <td>17850.0</td>\n",
       "      <td>United Kingdom</td>\n",
       "    </tr>\n",
       "    <tr>\n",
       "      <th>3</th>\n",
       "      <td>536365</td>\n",
       "      <td>84029G</td>\n",
       "      <td>KNITTED UNION FLAG HOT WATER BOTTLE</td>\n",
       "      <td>6</td>\n",
       "      <td>2010-12-01 08:26:00</td>\n",
       "      <td>3.39</td>\n",
       "      <td>17850.0</td>\n",
       "      <td>United Kingdom</td>\n",
       "    </tr>\n",
       "    <tr>\n",
       "      <th>4</th>\n",
       "      <td>536365</td>\n",
       "      <td>84029E</td>\n",
       "      <td>RED WOOLLY HOTTIE WHITE HEART.</td>\n",
       "      <td>6</td>\n",
       "      <td>2010-12-01 08:26:00</td>\n",
       "      <td>3.39</td>\n",
       "      <td>17850.0</td>\n",
       "      <td>United Kingdom</td>\n",
       "    </tr>\n",
       "  </tbody>\n",
       "</table>\n",
       "</div>\n",
       "      <button class=\"colab-df-convert\" onclick=\"convertToInteractive('df-b356108f-6aa7-4ed7-a364-625d4f17099b')\"\n",
       "              title=\"Convert this dataframe to an interactive table.\"\n",
       "              style=\"display:none;\">\n",
       "        \n",
       "  <svg xmlns=\"http://www.w3.org/2000/svg\" height=\"24px\"viewBox=\"0 0 24 24\"\n",
       "       width=\"24px\">\n",
       "    <path d=\"M0 0h24v24H0V0z\" fill=\"none\"/>\n",
       "    <path d=\"M18.56 5.44l.94 2.06.94-2.06 2.06-.94-2.06-.94-.94-2.06-.94 2.06-2.06.94zm-11 1L8.5 8.5l.94-2.06 2.06-.94-2.06-.94L8.5 2.5l-.94 2.06-2.06.94zm10 10l.94 2.06.94-2.06 2.06-.94-2.06-.94-.94-2.06-.94 2.06-2.06.94z\"/><path d=\"M17.41 7.96l-1.37-1.37c-.4-.4-.92-.59-1.43-.59-.52 0-1.04.2-1.43.59L10.3 9.45l-7.72 7.72c-.78.78-.78 2.05 0 2.83L4 21.41c.39.39.9.59 1.41.59.51 0 1.02-.2 1.41-.59l7.78-7.78 2.81-2.81c.8-.78.8-2.07 0-2.86zM5.41 20L4 18.59l7.72-7.72 1.47 1.35L5.41 20z\"/>\n",
       "  </svg>\n",
       "      </button>\n",
       "      \n",
       "  <style>\n",
       "    .colab-df-container {\n",
       "      display:flex;\n",
       "      flex-wrap:wrap;\n",
       "      gap: 12px;\n",
       "    }\n",
       "\n",
       "    .colab-df-convert {\n",
       "      background-color: #E8F0FE;\n",
       "      border: none;\n",
       "      border-radius: 50%;\n",
       "      cursor: pointer;\n",
       "      display: none;\n",
       "      fill: #1967D2;\n",
       "      height: 32px;\n",
       "      padding: 0 0 0 0;\n",
       "      width: 32px;\n",
       "    }\n",
       "\n",
       "    .colab-df-convert:hover {\n",
       "      background-color: #E2EBFA;\n",
       "      box-shadow: 0px 1px 2px rgba(60, 64, 67, 0.3), 0px 1px 3px 1px rgba(60, 64, 67, 0.15);\n",
       "      fill: #174EA6;\n",
       "    }\n",
       "\n",
       "    [theme=dark] .colab-df-convert {\n",
       "      background-color: #3B4455;\n",
       "      fill: #D2E3FC;\n",
       "    }\n",
       "\n",
       "    [theme=dark] .colab-df-convert:hover {\n",
       "      background-color: #434B5C;\n",
       "      box-shadow: 0px 1px 3px 1px rgba(0, 0, 0, 0.15);\n",
       "      filter: drop-shadow(0px 1px 2px rgba(0, 0, 0, 0.3));\n",
       "      fill: #FFFFFF;\n",
       "    }\n",
       "  </style>\n",
       "\n",
       "      <script>\n",
       "        const buttonEl =\n",
       "          document.querySelector('#df-b356108f-6aa7-4ed7-a364-625d4f17099b button.colab-df-convert');\n",
       "        buttonEl.style.display =\n",
       "          google.colab.kernel.accessAllowed ? 'block' : 'none';\n",
       "\n",
       "        async function convertToInteractive(key) {\n",
       "          const element = document.querySelector('#df-b356108f-6aa7-4ed7-a364-625d4f17099b');\n",
       "          const dataTable =\n",
       "            await google.colab.kernel.invokeFunction('convertToInteractive',\n",
       "                                                     [key], {});\n",
       "          if (!dataTable) return;\n",
       "\n",
       "          const docLinkHtml = 'Like what you see? Visit the ' +\n",
       "            '<a target=\"_blank\" href=https://colab.research.google.com/notebooks/data_table.ipynb>data table notebook</a>'\n",
       "            + ' to learn more about interactive tables.';\n",
       "          element.innerHTML = '';\n",
       "          dataTable['output_type'] = 'display_data';\n",
       "          await google.colab.output.renderOutput(dataTable, element);\n",
       "          const docLink = document.createElement('div');\n",
       "          docLink.innerHTML = docLinkHtml;\n",
       "          element.appendChild(docLink);\n",
       "        }\n",
       "      </script>\n",
       "    </div>\n",
       "  </div>\n",
       "  "
      ],
      "text/plain": [
       "  InvoiceNo StockCode                          Description  Quantity  \\\n",
       "0    536365    85123A   WHITE HANGING HEART T-LIGHT HOLDER         6   \n",
       "1    536365     71053                  WHITE METAL LANTERN         6   \n",
       "2    536365    84406B       CREAM CUPID HEARTS COAT HANGER         8   \n",
       "3    536365    84029G  KNITTED UNION FLAG HOT WATER BOTTLE         6   \n",
       "4    536365    84029E       RED WOOLLY HOTTIE WHITE HEART.         6   \n",
       "\n",
       "          InvoiceDate  UnitPrice  CustomerID         Country  \n",
       "0 2010-12-01 08:26:00       2.55     17850.0  United Kingdom  \n",
       "1 2010-12-01 08:26:00       3.39     17850.0  United Kingdom  \n",
       "2 2010-12-01 08:26:00       2.75     17850.0  United Kingdom  \n",
       "3 2010-12-01 08:26:00       3.39     17850.0  United Kingdom  \n",
       "4 2010-12-01 08:26:00       3.39     17850.0  United Kingdom  "
      ]
     },
     "execution_count": 105,
     "metadata": {},
     "output_type": "execute_result"
    }
   ],
   "source": [
    "df.head()"
   ]
  },
  {
   "cell_type": "markdown",
   "id": "_65RDWDpMlOE",
   "metadata": {
    "id": "_65RDWDpMlOE"
   },
   "source": [
    "### Findings.\n",
    "- We observed that the data has the following colums - `'InvoiceNo', 'StockCode', 'Description', 'Quantity', 'InvoiceDate','UnitPrice', 'CustomerID', 'Country'`\n",
    "- THE Data consists of both integers and strings(Object) and categorical attributes.\n",
    "- There was a total `541909 records with each having 8 attributes`\n",
    "- CustomerID had `135080 null records` while Description had about `1454 nulls records`. All other variables did not have nulls.\n",
    "- All null records were removed and finally we got `406829 records`"
   ]
  },
  {
   "cell_type": "code",
   "execution_count": 107,
   "id": "oZ0_auyUMkNj",
   "metadata": {
    "colab": {
     "base_uri": "https://localhost:8080/",
     "height": 49
    },
    "id": "oZ0_auyUMkNj",
    "outputId": "d49911ae-ca70-4468-ae40-9115414c4acf"
   },
   "outputs": [
    {
     "data": {
      "text/html": [
       "\n",
       "  <div id=\"df-a9e700d9-4204-4297-bae2-a14452cc0546\">\n",
       "    <div class=\"colab-df-container\">\n",
       "      <div>\n",
       "<style scoped>\n",
       "    .dataframe tbody tr th:only-of-type {\n",
       "        vertical-align: middle;\n",
       "    }\n",
       "\n",
       "    .dataframe tbody tr th {\n",
       "        vertical-align: top;\n",
       "    }\n",
       "\n",
       "    .dataframe thead th {\n",
       "        text-align: right;\n",
       "    }\n",
       "</style>\n",
       "<table border=\"1\" class=\"dataframe\">\n",
       "  <thead>\n",
       "    <tr style=\"text-align: right;\">\n",
       "      <th></th>\n",
       "      <th>InvoiceNo</th>\n",
       "      <th>StockCode</th>\n",
       "      <th>Description</th>\n",
       "      <th>Quantity</th>\n",
       "      <th>InvoiceDate</th>\n",
       "      <th>UnitPrice</th>\n",
       "      <th>CustomerID</th>\n",
       "      <th>Country</th>\n",
       "    </tr>\n",
       "  </thead>\n",
       "  <tbody>\n",
       "  </tbody>\n",
       "</table>\n",
       "</div>\n",
       "      <button class=\"colab-df-convert\" onclick=\"convertToInteractive('df-a9e700d9-4204-4297-bae2-a14452cc0546')\"\n",
       "              title=\"Convert this dataframe to an interactive table.\"\n",
       "              style=\"display:none;\">\n",
       "        \n",
       "  <svg xmlns=\"http://www.w3.org/2000/svg\" height=\"24px\"viewBox=\"0 0 24 24\"\n",
       "       width=\"24px\">\n",
       "    <path d=\"M0 0h24v24H0V0z\" fill=\"none\"/>\n",
       "    <path d=\"M18.56 5.44l.94 2.06.94-2.06 2.06-.94-2.06-.94-.94-2.06-.94 2.06-2.06.94zm-11 1L8.5 8.5l.94-2.06 2.06-.94-2.06-.94L8.5 2.5l-.94 2.06-2.06.94zm10 10l.94 2.06.94-2.06 2.06-.94-2.06-.94-.94-2.06-.94 2.06-2.06.94z\"/><path d=\"M17.41 7.96l-1.37-1.37c-.4-.4-.92-.59-1.43-.59-.52 0-1.04.2-1.43.59L10.3 9.45l-7.72 7.72c-.78.78-.78 2.05 0 2.83L4 21.41c.39.39.9.59 1.41.59.51 0 1.02-.2 1.41-.59l7.78-7.78 2.81-2.81c.8-.78.8-2.07 0-2.86zM5.41 20L4 18.59l7.72-7.72 1.47 1.35L5.41 20z\"/>\n",
       "  </svg>\n",
       "      </button>\n",
       "      \n",
       "  <style>\n",
       "    .colab-df-container {\n",
       "      display:flex;\n",
       "      flex-wrap:wrap;\n",
       "      gap: 12px;\n",
       "    }\n",
       "\n",
       "    .colab-df-convert {\n",
       "      background-color: #E8F0FE;\n",
       "      border: none;\n",
       "      border-radius: 50%;\n",
       "      cursor: pointer;\n",
       "      display: none;\n",
       "      fill: #1967D2;\n",
       "      height: 32px;\n",
       "      padding: 0 0 0 0;\n",
       "      width: 32px;\n",
       "    }\n",
       "\n",
       "    .colab-df-convert:hover {\n",
       "      background-color: #E2EBFA;\n",
       "      box-shadow: 0px 1px 2px rgba(60, 64, 67, 0.3), 0px 1px 3px 1px rgba(60, 64, 67, 0.15);\n",
       "      fill: #174EA6;\n",
       "    }\n",
       "\n",
       "    [theme=dark] .colab-df-convert {\n",
       "      background-color: #3B4455;\n",
       "      fill: #D2E3FC;\n",
       "    }\n",
       "\n",
       "    [theme=dark] .colab-df-convert:hover {\n",
       "      background-color: #434B5C;\n",
       "      box-shadow: 0px 1px 3px 1px rgba(0, 0, 0, 0.15);\n",
       "      filter: drop-shadow(0px 1px 2px rgba(0, 0, 0, 0.3));\n",
       "      fill: #FFFFFF;\n",
       "    }\n",
       "  </style>\n",
       "\n",
       "      <script>\n",
       "        const buttonEl =\n",
       "          document.querySelector('#df-a9e700d9-4204-4297-bae2-a14452cc0546 button.colab-df-convert');\n",
       "        buttonEl.style.display =\n",
       "          google.colab.kernel.accessAllowed ? 'block' : 'none';\n",
       "\n",
       "        async function convertToInteractive(key) {\n",
       "          const element = document.querySelector('#df-a9e700d9-4204-4297-bae2-a14452cc0546');\n",
       "          const dataTable =\n",
       "            await google.colab.kernel.invokeFunction('convertToInteractive',\n",
       "                                                     [key], {});\n",
       "          if (!dataTable) return;\n",
       "\n",
       "          const docLinkHtml = 'Like what you see? Visit the ' +\n",
       "            '<a target=\"_blank\" href=https://colab.research.google.com/notebooks/data_table.ipynb>data table notebook</a>'\n",
       "            + ' to learn more about interactive tables.';\n",
       "          element.innerHTML = '';\n",
       "          dataTable['output_type'] = 'display_data';\n",
       "          await google.colab.output.renderOutput(dataTable, element);\n",
       "          const docLink = document.createElement('div');\n",
       "          docLink.innerHTML = docLinkHtml;\n",
       "          element.appendChild(docLink);\n",
       "        }\n",
       "      </script>\n",
       "    </div>\n",
       "  </div>\n",
       "  "
      ],
      "text/plain": [
       "Empty DataFrame\n",
       "Columns: [InvoiceNo, StockCode, Description, Quantity, InvoiceDate, UnitPrice, CustomerID, Country]\n",
       "Index: []"
      ]
     },
     "execution_count": 107,
     "metadata": {},
     "output_type": "execute_result"
    }
   ],
   "source": [
    "df.columns\n",
    "\n",
    "df[df[\"Description\"] ==\"\"]"
   ]
  },
  {
   "cell_type": "markdown",
   "id": "uo_xwpCPIcsu",
   "metadata": {
    "id": "uo_xwpCPIcsu"
   },
   "source": [
    "- From the dataset descriptions, we are told that an Invoice if cancelled if it contains a letter C.\n"
   ]
  },
  {
   "cell_type": "code",
   "execution_count": 108,
   "id": "8o8PUKtBHjXf",
   "metadata": {
    "colab": {
     "base_uri": "https://localhost:8080/"
    },
    "id": "8o8PUKtBHjXf",
    "outputId": "ba3fe01d-607f-4c8e-ae08-760e54244504"
   },
   "outputs": [
    {
     "name": "stdout",
     "output_type": "stream",
     "text": [
      "There was a total of   8905 invoices that were cancelled\n"
     ]
    }
   ],
   "source": [
    "\n",
    "# lets get cancelled rows\n",
    "cancelled_invoices = df['InvoiceNo'].astype(\"str\").str.contains(\"C\")\n",
    "\n",
    "print(f\"There was a total of   {cancelled_invoices.sum()} invoices that were cancelled\")"
   ]
  },
  {
   "cell_type": "code",
   "execution_count": 109,
   "id": "9GqlsHgDHjaV",
   "metadata": {
    "id": "9GqlsHgDHjaV"
   },
   "outputs": [],
   "source": [
    "\n",
    "#query only the dataset that was not cancelled\n",
    "df = df[~cancelled_invoices]"
   ]
  },
  {
   "cell_type": "code",
   "execution_count": 110,
   "id": "6rOxZ2tbKUjL",
   "metadata": {
    "colab": {
     "base_uri": "https://localhost:8080/"
    },
    "id": "6rOxZ2tbKUjL",
    "outputId": "8ca683a3-0486-4cec-ee6f-ceccff6b48e1"
   },
   "outputs": [
    {
     "data": {
      "text/plain": [
       "(397924, 8)"
      ]
     },
     "execution_count": 110,
     "metadata": {},
     "output_type": "execute_result"
    }
   ],
   "source": [
    "# check new shape\n",
    "df.shape"
   ]
  },
  {
   "cell_type": "code",
   "execution_count": 111,
   "id": "UJ5QscEZLQ9A",
   "metadata": {
    "colab": {
     "base_uri": "https://localhost:8080/"
    },
    "id": "UJ5QscEZLQ9A",
    "outputId": "b486bbb2-3a34-4a50-d455-44e3025445e3"
   },
   "outputs": [
    {
     "data": {
      "text/plain": [
       "Index(['Quantity', 'UnitPrice', 'CustomerID'], dtype='object')"
      ]
     },
     "execution_count": 111,
     "metadata": {},
     "output_type": "execute_result"
    }
   ],
   "source": [
    "df.select_dtypes([\"int64\", \"float64\"]).columns"
   ]
  },
  {
   "cell_type": "markdown",
   "id": "bQd03U5mLHaj",
   "metadata": {
    "id": "bQd03U5mLHaj"
   },
   "source": [
    "- Let check on the numerical columns to check how it is distributed\n",
    "- These columns will be only `Quantity and Unit Price`"
   ]
  },
  {
   "cell_type": "code",
   "execution_count": 112,
   "id": "08po8YTaLmjW",
   "metadata": {
    "id": "08po8YTaLmjW"
   },
   "outputs": [],
   "source": [
    "numerical_cols = [\"Quantity\", \"UnitPrice\"]"
   ]
  },
  {
   "cell_type": "code",
   "execution_count": 113,
   "id": "5aUc4b7GN2TE",
   "metadata": {
    "colab": {
     "base_uri": "https://localhost:8080/"
    },
    "id": "5aUc4b7GN2TE",
    "outputId": "273a72e6-0093-4b32-a5c8-9ae83d026d56"
   },
   "outputs": [
    {
     "data": {
      "text/plain": [
       "Quantity     403.319431\n",
       "UnitPrice    204.042413\n",
       "dtype: float64"
      ]
     },
     "execution_count": 113,
     "metadata": {},
     "output_type": "execute_result"
    }
   ],
   "source": [
    "# lets check for data skewness\n",
    "df[numerical_cols].skew()"
   ]
  },
  {
   "cell_type": "code",
   "execution_count": 114,
   "id": "h7S4XHaFN-8v",
   "metadata": {
    "colab": {
     "base_uri": "https://localhost:8080/",
     "height": 489
    },
    "id": "h7S4XHaFN-8v",
    "outputId": "b0ed9c61-0ede-4c69-cfba-34ae719abcd7"
   },
   "outputs": [
    {
     "data": {
      "text/plain": [
       "Text(0.5, 1.0, 'Quantity Distribution Plot')"
      ]
     },
     "execution_count": 114,
     "metadata": {},
     "output_type": "execute_result"
    },
    {
     "data": {
      "image/png": "[encoded data removed]",
      "text/plain": [
       "<Figure size 640x480 with 1 Axes>"
      ]
     },
     "metadata": {},
     "output_type": "display_data"
    }
   ],
   "source": [
    "# plot distribution plot for quantity\n",
    "sns.distplot(df.Quantity)\n",
    "plt.title(\"Quantity Distribution Plot\")"
   ]
  },
  {
   "cell_type": "markdown",
   "id": "FI57BcUcOEie",
   "metadata": {
    "id": "FI57BcUcOEie"
   },
   "source": [
    "In this case we are using skewness to check how the data are distributed i.e either positive(right) or negative(left) and their symetry.\n",
    "Good values for a well distributed data should be 0.\n",
    "\n",
    "We will have to deal with this skewness later using some method to normalize the dataset. But in this case, these the data is not collected from a single country and each country has its own regulations for market and consumer purchasing patterns, we are not going to normalize the data in any way. We will just use it as it ease in order to caters iddifferences between each country's economic patterns.\n",
    "\n",
    "\n",
    "- One of the thing we will deal with is If `Quantity or UnitPrice is less than or equal to Zero, we have to drops those values since they are outliers`. We cannot have an invoice order with zero Quantity or costs zero."
   ]
  },
  {
   "cell_type": "code",
   "execution_count": 115,
   "id": "JA_vbRsQT7jY",
   "metadata": {
    "colab": {
     "base_uri": "https://localhost:8080/"
    },
    "id": "JA_vbRsQT7jY",
    "outputId": "2a167d0f-642f-4588-9370-eb9243a4f0a8"
   },
   "outputs": [
    {
     "name": "stdout",
     "output_type": "stream",
     "text": [
      "For Unit Price, 40  Costs Nothing\n",
      "For Invoice Quantiy  0  Were Nothing\n"
     ]
    }
   ],
   "source": [
    "print(f\"For Unit Price, {len(df[df['UnitPrice'] <= 0])}  Costs Nothing\")\n",
    "print(f\"For Invoice Quantiy  {len(df[df['Quantity'] <= 0])}  Were Nothing\")"
   ]
  },
  {
   "cell_type": "code",
   "execution_count": 116,
   "id": "7rx-AIUoUVeM",
   "metadata": {
    "colab": {
     "base_uri": "https://localhost:8080/"
    },
    "id": "7rx-AIUoUVeM",
    "outputId": "ea07573a-f421-4735-bb75-842045e530d7"
   },
   "outputs": [
    {
     "data": {
      "text/plain": [
       "(397924, 8)"
      ]
     },
     "execution_count": 116,
     "metadata": {},
     "output_type": "execute_result"
    }
   ],
   "source": [
    "# lets drop the Unit price that cost nothing\n",
    "df = df[df[\"Quantity\"] > 0]\n",
    "\n",
    "# recheck shape\n",
    "df.shape"
   ]
  },
  {
   "cell_type": "code",
   "execution_count": 117,
   "id": "yqQo61h4N77g",
   "metadata": {
    "colab": {
     "base_uri": "https://localhost:8080/"
    },
    "id": "yqQo61h4N77g",
    "outputId": "c03a8c10-90bf-43cd-d2d0-ec0ee0ca818d"
   },
   "outputs": [
    {
     "data": {
      "text/plain": [
       "United Kingdom          0.890484\n",
       "Germany                 0.022723\n",
       "France                  0.020964\n",
       "EIRE                    0.018189\n",
       "Spain                   0.006245\n",
       "Netherlands             0.005938\n",
       "Belgium                 0.005104\n",
       "Switzerland             0.004629\n",
       "Portugal                0.003674\n",
       "Australia               0.002978\n",
       "Norway                  0.002694\n",
       "Italy                   0.001905\n",
       "Channel Islands         0.001880\n",
       "Finland                 0.001721\n",
       "Cyprus                  0.001543\n",
       "Sweden                  0.001133\n",
       "Austria                 0.001000\n",
       "Denmark                 0.000955\n",
       "Poland                  0.000829\n",
       "Japan                   0.000807\n",
       "Israel                  0.000623\n",
       "Unspecified             0.000613\n",
       "Singapore               0.000558\n",
       "Iceland                 0.000457\n",
       "USA                     0.000450\n",
       "Canada                  0.000379\n",
       "Greece                  0.000364\n",
       "Malta                   0.000281\n",
       "United Arab Emirates    0.000171\n",
       "European Community      0.000151\n",
       "RSA                     0.000146\n",
       "Lebanon                 0.000113\n",
       "Lithuania               0.000088\n",
       "Brazil                  0.000080\n",
       "Czech Republic          0.000063\n",
       "Bahrain                 0.000043\n",
       "Saudi Arabia            0.000023\n",
       "Name: Country, dtype: float64"
      ]
     },
     "execution_count": 117,
     "metadata": {},
     "output_type": "execute_result"
    }
   ],
   "source": [
    "country_counts =df['Country'].value_counts(normalize=True)\n",
    "country_counts"
   ]
  },
  {
   "cell_type": "markdown",
   "id": "iqQ5xrSoPLAr",
   "metadata": {
    "id": "iqQ5xrSoPLAr"
   },
   "source": [
    "- Majority of the Invoices i.e 89% were from United Kingdom"
   ]
  },
  {
   "cell_type": "code",
   "execution_count": 118,
   "id": "V5Q1RvOxPKVq",
   "metadata": {
    "colab": {
     "base_uri": "https://localhost:8080/",
     "height": 1000
    },
    "id": "V5Q1RvOxPKVq",
    "outputId": "19b2f2ab-7392-49ec-e0c0-94314523a20c"
   },
   "outputs": [
    {
     "data": {
      "text/html": [
       "<style type=\"text/css\">\n",
       "#T_c2260_row0_col1 {\n",
       "  background-color: #67000d;\n",
       "  color: #f1f1f1;\n",
       "}\n",
       "#T_c2260_row1_col1 {\n",
       "  background-color: #e53228;\n",
       "  color: #f1f1f1;\n",
       "}\n",
       "#T_c2260_row2_col1 {\n",
       "  background-color: #fc8161;\n",
       "  color: #f1f1f1;\n",
       "}\n",
       "#T_c2260_row3_col1, #T_c2260_row4_col1 {\n",
       "  background-color: #fca689;\n",
       "  color: #000000;\n",
       "}\n",
       "#T_c2260_row5_col1 {\n",
       "  background-color: #fdcab5;\n",
       "  color: #000000;\n",
       "}\n",
       "#T_c2260_row6_col1, #T_c2260_row7_col1, #T_c2260_row8_col1, #T_c2260_row9_col1, #T_c2260_row10_col1, #T_c2260_row11_col1, #T_c2260_row12_col1, #T_c2260_row13_col1, #T_c2260_row14_col1, #T_c2260_row15_col1, #T_c2260_row16_col1 {\n",
       "  background-color: #fedbcc;\n",
       "  color: #000000;\n",
       "}\n",
       "#T_c2260_row17_col1, #T_c2260_row18_col1, #T_c2260_row19_col1, #T_c2260_row20_col1, #T_c2260_row21_col1, #T_c2260_row22_col1, #T_c2260_row23_col1, #T_c2260_row24_col1, #T_c2260_row25_col1, #T_c2260_row26_col1 {\n",
       "  background-color: #fee2d5;\n",
       "  color: #000000;\n",
       "}\n",
       "#T_c2260_row27_col1, #T_c2260_row28_col1 {\n",
       "  background-color: #fee7dc;\n",
       "  color: #000000;\n",
       "}\n",
       "#T_c2260_row29_col1, #T_c2260_row30_col1, #T_c2260_row31_col1, #T_c2260_row32_col1, #T_c2260_row33_col1 {\n",
       "  background-color: #ffece3;\n",
       "  color: #000000;\n",
       "}\n",
       "#T_c2260_row34_col1 {\n",
       "  background-color: #ffeee7;\n",
       "  color: #000000;\n",
       "}\n",
       "#T_c2260_row35_col1 {\n",
       "  background-color: #fff0e9;\n",
       "  color: #000000;\n",
       "}\n",
       "#T_c2260_row36_col1 {\n",
       "  background-color: #fff5f0;\n",
       "  color: #000000;\n",
       "}\n",
       "</style>\n",
       "<table id=\"T_c2260\" class=\"dataframe\">\n",
       "  <thead>\n",
       "    <tr>\n",
       "      <th class=\"blank level0\" >&nbsp;</th>\n",
       "      <th id=\"T_c2260_level0_col0\" class=\"col_heading level0 col0\" >Country</th>\n",
       "      <th id=\"T_c2260_level0_col1\" class=\"col_heading level0 col1\" >Quantity</th>\n",
       "    </tr>\n",
       "  </thead>\n",
       "  <tbody>\n",
       "    <tr>\n",
       "      <th id=\"T_c2260_level0_row0\" class=\"row_heading level0 row0\" >23</th>\n",
       "      <td id=\"T_c2260_row0_col0\" class=\"data row0 col0\" >Netherlands</td>\n",
       "      <td id=\"T_c2260_row0_col1\" class=\"data row0 col1\" >72.000000</td>\n",
       "    </tr>\n",
       "    <tr>\n",
       "      <th id=\"T_c2260_level0_row1\" class=\"row_heading level0 row1\" >19</th>\n",
       "      <td id=\"T_c2260_row1_col0\" class=\"data row1 col0\" >Japan</td>\n",
       "      <td id=\"T_c2260_row1_col1\" class=\"data row1 col1\" >48.000000</td>\n",
       "    </tr>\n",
       "    <tr>\n",
       "      <th id=\"T_c2260_level0_row2\" class=\"row_heading level0 row2\" >0</th>\n",
       "      <td id=\"T_c2260_row2_col0\" class=\"data row2 col0\" >Australia</td>\n",
       "      <td id=\"T_c2260_row2_col1\" class=\"data row2 col1\" >32.000000</td>\n",
       "    </tr>\n",
       "    <tr>\n",
       "      <th id=\"T_c2260_level0_row3\" class=\"row_heading level0 row3\" >31</th>\n",
       "      <td id=\"T_c2260_row3_col0\" class=\"data row3 col0\" >Sweden</td>\n",
       "      <td id=\"T_c2260_row3_col1\" class=\"data row3 col1\" >24.000000</td>\n",
       "    </tr>\n",
       "    <tr>\n",
       "      <th id=\"T_c2260_level0_row4\" class=\"row_heading level0 row4\" >8</th>\n",
       "      <td id=\"T_c2260_row4_col0\" class=\"data row4 col0\" >Czech Republic</td>\n",
       "      <td id=\"T_c2260_row4_col1\" class=\"data row4 col1\" >24.000000</td>\n",
       "    </tr>\n",
       "    <tr>\n",
       "      <th id=\"T_c2260_level0_row5\" class=\"row_heading level0 row5\" >21</th>\n",
       "      <td id=\"T_c2260_row5_col0\" class=\"data row5 col0\" >Lithuania</td>\n",
       "      <td id=\"T_c2260_row5_col1\" class=\"data row5 col1\" >16.000000</td>\n",
       "    </tr>\n",
       "    <tr>\n",
       "      <th id=\"T_c2260_level0_row6\" class=\"row_heading level0 row6\" >32</th>\n",
       "      <td id=\"T_c2260_row6_col0\" class=\"data row6 col0\" >Switzerland</td>\n",
       "      <td id=\"T_c2260_row6_col1\" class=\"data row6 col1\" >12.000000</td>\n",
       "    </tr>\n",
       "    <tr>\n",
       "      <th id=\"T_c2260_level0_row7\" class=\"row_heading level0 row7\" >16</th>\n",
       "      <td id=\"T_c2260_row7_col0\" class=\"data row7 col0\" >Iceland</td>\n",
       "      <td id=\"T_c2260_row7_col1\" class=\"data row7 col1\" >12.000000</td>\n",
       "    </tr>\n",
       "    <tr>\n",
       "      <th id=\"T_c2260_level0_row8\" class=\"row_heading level0 row8\" >28</th>\n",
       "      <td id=\"T_c2260_row8_col0\" class=\"data row8 col0\" >Saudi Arabia</td>\n",
       "      <td id=\"T_c2260_row8_col1\" class=\"data row8 col1\" >12.000000</td>\n",
       "    </tr>\n",
       "    <tr>\n",
       "      <th id=\"T_c2260_level0_row9\" class=\"row_heading level0 row9\" >29</th>\n",
       "      <td id=\"T_c2260_row9_col0\" class=\"data row9 col0\" >Singapore</td>\n",
       "      <td id=\"T_c2260_row9_col1\" class=\"data row9 col1\" >12.000000</td>\n",
       "    </tr>\n",
       "    <tr>\n",
       "      <th id=\"T_c2260_level0_row10\" class=\"row_heading level0 row10\" >9</th>\n",
       "      <td id=\"T_c2260_row10_col0\" class=\"data row10 col0\" >Denmark</td>\n",
       "      <td id=\"T_c2260_row10_col1\" class=\"data row10 col1\" >12.000000</td>\n",
       "    </tr>\n",
       "    <tr>\n",
       "      <th id=\"T_c2260_level0_row11\" class=\"row_heading level0 row11\" >10</th>\n",
       "      <td id=\"T_c2260_row11_col0\" class=\"data row11 col0\" >EIRE</td>\n",
       "      <td id=\"T_c2260_row11_col1\" class=\"data row11 col1\" >12.000000</td>\n",
       "    </tr>\n",
       "    <tr>\n",
       "      <th id=\"T_c2260_level0_row12\" class=\"row_heading level0 row12\" >33</th>\n",
       "      <td id=\"T_c2260_row12_col0\" class=\"data row12 col0\" >USA</td>\n",
       "      <td id=\"T_c2260_row12_col1\" class=\"data row12 col1\" >12.000000</td>\n",
       "    </tr>\n",
       "    <tr>\n",
       "      <th id=\"T_c2260_level0_row13\" class=\"row_heading level0 row13\" >5</th>\n",
       "      <td id=\"T_c2260_row13_col0\" class=\"data row13 col0\" >Canada</td>\n",
       "      <td id=\"T_c2260_row13_col1\" class=\"data row13 col1\" >12.000000</td>\n",
       "    </tr>\n",
       "    <tr>\n",
       "      <th id=\"T_c2260_level0_row14\" class=\"row_heading level0 row14\" >24</th>\n",
       "      <td id=\"T_c2260_row14_col0\" class=\"data row14 col0\" >Norway</td>\n",
       "      <td id=\"T_c2260_row14_col1\" class=\"data row14 col1\" >12.000000</td>\n",
       "    </tr>\n",
       "    <tr>\n",
       "      <th id=\"T_c2260_level0_row15\" class=\"row_heading level0 row15\" >34</th>\n",
       "      <td id=\"T_c2260_row15_col0\" class=\"data row15 col0\" >United Arab Emirates</td>\n",
       "      <td id=\"T_c2260_row15_col1\" class=\"data row15 col1\" >12.000000</td>\n",
       "    </tr>\n",
       "    <tr>\n",
       "      <th id=\"T_c2260_level0_row16\" class=\"row_heading level0 row16\" >17</th>\n",
       "      <td id=\"T_c2260_row16_col0\" class=\"data row16 col0\" >Israel</td>\n",
       "      <td id=\"T_c2260_row16_col1\" class=\"data row16 col1\" >12.000000</td>\n",
       "    </tr>\n",
       "    <tr>\n",
       "      <th id=\"T_c2260_level0_row17\" class=\"row_heading level0 row17\" >25</th>\n",
       "      <td id=\"T_c2260_row17_col0\" class=\"data row17 col0\" >Poland</td>\n",
       "      <td id=\"T_c2260_row17_col1\" class=\"data row17 col1\" >10.000000</td>\n",
       "    </tr>\n",
       "    <tr>\n",
       "      <th id=\"T_c2260_level0_row18\" class=\"row_heading level0 row18\" >13</th>\n",
       "      <td id=\"T_c2260_row18_col0\" class=\"data row18 col0\" >France</td>\n",
       "      <td id=\"T_c2260_row18_col1\" class=\"data row18 col1\" >10.000000</td>\n",
       "    </tr>\n",
       "    <tr>\n",
       "      <th id=\"T_c2260_level0_row19\" class=\"row_heading level0 row19\" >1</th>\n",
       "      <td id=\"T_c2260_row19_col0\" class=\"data row19 col0\" >Austria</td>\n",
       "      <td id=\"T_c2260_row19_col1\" class=\"data row19 col1\" >10.000000</td>\n",
       "    </tr>\n",
       "    <tr>\n",
       "      <th id=\"T_c2260_level0_row20\" class=\"row_heading level0 row20\" >15</th>\n",
       "      <td id=\"T_c2260_row20_col0\" class=\"data row20 col0\" >Greece</td>\n",
       "      <td id=\"T_c2260_row20_col1\" class=\"data row20 col1\" >10.000000</td>\n",
       "    </tr>\n",
       "    <tr>\n",
       "      <th id=\"T_c2260_level0_row21\" class=\"row_heading level0 row21\" >14</th>\n",
       "      <td id=\"T_c2260_row21_col0\" class=\"data row21 col0\" >Germany</td>\n",
       "      <td id=\"T_c2260_row21_col1\" class=\"data row21 col1\" >10.000000</td>\n",
       "    </tr>\n",
       "    <tr>\n",
       "      <th id=\"T_c2260_level0_row22\" class=\"row_heading level0 row22\" >12</th>\n",
       "      <td id=\"T_c2260_row22_col0\" class=\"data row22 col0\" >Finland</td>\n",
       "      <td id=\"T_c2260_row22_col1\" class=\"data row22 col1\" >10.000000</td>\n",
       "    </tr>\n",
       "    <tr>\n",
       "      <th id=\"T_c2260_level0_row23\" class=\"row_heading level0 row23\" >6</th>\n",
       "      <td id=\"T_c2260_row23_col0\" class=\"data row23 col0\" >Channel Islands</td>\n",
       "      <td id=\"T_c2260_row23_col1\" class=\"data row23 col1\" >10.000000</td>\n",
       "    </tr>\n",
       "    <tr>\n",
       "      <th id=\"T_c2260_level0_row24\" class=\"row_heading level0 row24\" >4</th>\n",
       "      <td id=\"T_c2260_row24_col0\" class=\"data row24 col0\" >Brazil</td>\n",
       "      <td id=\"T_c2260_row24_col1\" class=\"data row24 col1\" >10.000000</td>\n",
       "    </tr>\n",
       "    <tr>\n",
       "      <th id=\"T_c2260_level0_row25\" class=\"row_heading level0 row25\" >3</th>\n",
       "      <td id=\"T_c2260_row25_col0\" class=\"data row25 col0\" >Belgium</td>\n",
       "      <td id=\"T_c2260_row25_col1\" class=\"data row25 col1\" >10.000000</td>\n",
       "    </tr>\n",
       "    <tr>\n",
       "      <th id=\"T_c2260_level0_row26\" class=\"row_heading level0 row26\" >26</th>\n",
       "      <td id=\"T_c2260_row26_col0\" class=\"data row26 col0\" >Portugal</td>\n",
       "      <td id=\"T_c2260_row26_col1\" class=\"data row26 col1\" >10.000000</td>\n",
       "    </tr>\n",
       "    <tr>\n",
       "      <th id=\"T_c2260_level0_row27\" class=\"row_heading level0 row27\" >18</th>\n",
       "      <td id=\"T_c2260_row27_col0\" class=\"data row27 col0\" >Italy</td>\n",
       "      <td id=\"T_c2260_row27_col1\" class=\"data row27 col1\" >8.000000</td>\n",
       "    </tr>\n",
       "    <tr>\n",
       "      <th id=\"T_c2260_level0_row28\" class=\"row_heading level0 row28\" >20</th>\n",
       "      <td id=\"T_c2260_row28_col0\" class=\"data row28 col0\" >Lebanon</td>\n",
       "      <td id=\"T_c2260_row28_col1\" class=\"data row28 col1\" >8.000000</td>\n",
       "    </tr>\n",
       "    <tr>\n",
       "      <th id=\"T_c2260_level0_row29\" class=\"row_heading level0 row29\" >27</th>\n",
       "      <td id=\"T_c2260_row29_col0\" class=\"data row29 col0\" >RSA</td>\n",
       "      <td id=\"T_c2260_row29_col1\" class=\"data row29 col1\" >6.000000</td>\n",
       "    </tr>\n",
       "    <tr>\n",
       "      <th id=\"T_c2260_level0_row30\" class=\"row_heading level0 row30\" >22</th>\n",
       "      <td id=\"T_c2260_row30_col0\" class=\"data row30 col0\" >Malta</td>\n",
       "      <td id=\"T_c2260_row30_col1\" class=\"data row30 col1\" >6.000000</td>\n",
       "    </tr>\n",
       "    <tr>\n",
       "      <th id=\"T_c2260_level0_row31\" class=\"row_heading level0 row31\" >30</th>\n",
       "      <td id=\"T_c2260_row31_col0\" class=\"data row31 col0\" >Spain</td>\n",
       "      <td id=\"T_c2260_row31_col1\" class=\"data row31 col1\" >6.000000</td>\n",
       "    </tr>\n",
       "    <tr>\n",
       "      <th id=\"T_c2260_level0_row32\" class=\"row_heading level0 row32\" >11</th>\n",
       "      <td id=\"T_c2260_row32_col0\" class=\"data row32 col0\" >European Community</td>\n",
       "      <td id=\"T_c2260_row32_col1\" class=\"data row32 col1\" >6.000000</td>\n",
       "    </tr>\n",
       "    <tr>\n",
       "      <th id=\"T_c2260_level0_row33\" class=\"row_heading level0 row33\" >2</th>\n",
       "      <td id=\"T_c2260_row33_col0\" class=\"data row33 col0\" >Bahrain</td>\n",
       "      <td id=\"T_c2260_row33_col1\" class=\"data row33 col1\" >6.000000</td>\n",
       "    </tr>\n",
       "    <tr>\n",
       "      <th id=\"T_c2260_level0_row34\" class=\"row_heading level0 row34\" >7</th>\n",
       "      <td id=\"T_c2260_row34_col0\" class=\"data row34 col0\" >Cyprus</td>\n",
       "      <td id=\"T_c2260_row34_col1\" class=\"data row34 col1\" >5.000000</td>\n",
       "    </tr>\n",
       "    <tr>\n",
       "      <th id=\"T_c2260_level0_row35\" class=\"row_heading level0 row35\" >35</th>\n",
       "      <td id=\"T_c2260_row35_col0\" class=\"data row35 col0\" >United Kingdom</td>\n",
       "      <td id=\"T_c2260_row35_col1\" class=\"data row35 col1\" >4.000000</td>\n",
       "    </tr>\n",
       "    <tr>\n",
       "      <th id=\"T_c2260_level0_row36\" class=\"row_heading level0 row36\" >36</th>\n",
       "      <td id=\"T_c2260_row36_col0\" class=\"data row36 col0\" >Unspecified</td>\n",
       "      <td id=\"T_c2260_row36_col1\" class=\"data row36 col1\" >2.000000</td>\n",
       "    </tr>\n",
       "  </tbody>\n",
       "</table>\n"
      ],
      "text/plain": [
       "<pandas.io.formats.style.Styler at 0x7f2615375150>"
      ]
     },
     "execution_count": 118,
     "metadata": {},
     "output_type": "execute_result"
    }
   ],
   "source": [
    "# check mean price agaist the country\n",
    "table = df.groupby(['Country'],as_index=False)['Quantity'].median()\n",
    "table = table.sort_values(by='Quantity',ascending=False)\n",
    "table.style.background_gradient(cmap='Reds')"
   ]
  },
  {
   "cell_type": "markdown",
   "id": "NwZeQK8iPiUa",
   "metadata": {
    "id": "NwZeQK8iPiUa"
   },
   "source": [
    "- From the above, Invoices ordered from Netherlands were average with 72 units which is almost twice Japan which it the second one with 48\n",
    "- Most country had invoice orders with 10 as qiuantity.\n",
    "- The least was United Kingdom and Unspecified with 4 and 2 respectively"
   ]
  },
  {
   "cell_type": "code",
   "execution_count": 119,
   "id": "4pybrSR9OcCW",
   "metadata": {
    "colab": {
     "base_uri": "https://localhost:8080/",
     "height": 1000
    },
    "id": "4pybrSR9OcCW",
    "outputId": "9e1937d5-0358-474c-db1c-cd5b9aa48268"
   },
   "outputs": [
    {
     "data": {
      "text/html": [
       "<style type=\"text/css\">\n",
       "#T_c90a1_row0_col1 {\n",
       "  background-color: #67000d;\n",
       "  color: #f1f1f1;\n",
       "}\n",
       "#T_c90a1_row1_col1 {\n",
       "  background-color: #c5171c;\n",
       "  color: #f1f1f1;\n",
       "}\n",
       "#T_c90a1_row2_col1 {\n",
       "  background-color: #d82422;\n",
       "  color: #f1f1f1;\n",
       "}\n",
       "#T_c90a1_row3_col1, #T_c90a1_row4_col1, #T_c90a1_row5_col1, #T_c90a1_row6_col1 {\n",
       "  background-color: #ed392b;\n",
       "  color: #f1f1f1;\n",
       "}\n",
       "#T_c90a1_row7_col1, #T_c90a1_row8_col1 {\n",
       "  background-color: #fb7050;\n",
       "  color: #f1f1f1;\n",
       "}\n",
       "#T_c90a1_row9_col1 {\n",
       "  background-color: #fc9d7f;\n",
       "  color: #000000;\n",
       "}\n",
       "#T_c90a1_row10_col1, #T_c90a1_row11_col1, #T_c90a1_row12_col1 {\n",
       "  background-color: #fca689;\n",
       "  color: #000000;\n",
       "}\n",
       "#T_c90a1_row13_col1, #T_c90a1_row14_col1, #T_c90a1_row15_col1, #T_c90a1_row16_col1, #T_c90a1_row17_col1 {\n",
       "  background-color: #fca98c;\n",
       "  color: #000000;\n",
       "}\n",
       "#T_c90a1_row18_col1 {\n",
       "  background-color: #fcb095;\n",
       "  color: #000000;\n",
       "}\n",
       "#T_c90a1_row19_col1, #T_c90a1_row20_col1, #T_c90a1_row21_col1, #T_c90a1_row22_col1, #T_c90a1_row23_col1 {\n",
       "  background-color: #fcb89e;\n",
       "  color: #000000;\n",
       "}\n",
       "#T_c90a1_row24_col1, #T_c90a1_row25_col1 {\n",
       "  background-color: #fdcab5;\n",
       "  color: #000000;\n",
       "}\n",
       "#T_c90a1_row26_col1 {\n",
       "  background-color: #fdd5c4;\n",
       "  color: #000000;\n",
       "}\n",
       "#T_c90a1_row27_col1 {\n",
       "  background-color: #fed8c7;\n",
       "  color: #000000;\n",
       "}\n",
       "#T_c90a1_row28_col1, #T_c90a1_row29_col1, #T_c90a1_row30_col1, #T_c90a1_row31_col1 {\n",
       "  background-color: #fedaca;\n",
       "  color: #000000;\n",
       "}\n",
       "#T_c90a1_row32_col1, #T_c90a1_row33_col1, #T_c90a1_row34_col1, #T_c90a1_row35_col1 {\n",
       "  background-color: #fee9df;\n",
       "  color: #000000;\n",
       "}\n",
       "#T_c90a1_row36_col1 {\n",
       "  background-color: #fff5f0;\n",
       "  color: #000000;\n",
       "}\n",
       "</style>\n",
       "<table id=\"T_c90a1\" class=\"dataframe\">\n",
       "  <thead>\n",
       "    <tr>\n",
       "      <th class=\"blank level0\" >&nbsp;</th>\n",
       "      <th id=\"T_c90a1_level0_col0\" class=\"col_heading level0 col0\" >Country</th>\n",
       "      <th id=\"T_c90a1_level0_col1\" class=\"col_heading level0 col1\" >UnitPrice</th>\n",
       "    </tr>\n",
       "  </thead>\n",
       "  <tbody>\n",
       "    <tr>\n",
       "      <th id=\"T_c90a1_level0_row0\" class=\"row_heading level0 row0\" >20</th>\n",
       "      <td id=\"T_c90a1_row0_col0\" class=\"data row0 col0\" >Lebanon</td>\n",
       "      <td id=\"T_c90a1_row0_col1\" class=\"data row0 col1\" >3.950000</td>\n",
       "    </tr>\n",
       "    <tr>\n",
       "      <th id=\"T_c90a1_level0_row1\" class=\"row_heading level0 row1\" >4</th>\n",
       "      <td id=\"T_c90a1_row1_col0\" class=\"data row1 col0\" >Brazil</td>\n",
       "      <td id=\"T_c90a1_row1_col1\" class=\"data row1 col1\" >3.320000</td>\n",
       "    </tr>\n",
       "    <tr>\n",
       "      <th id=\"T_c90a1_level0_row2\" class=\"row_heading level0 row2\" >11</th>\n",
       "      <td id=\"T_c90a1_row2_col0\" class=\"data row2 col0\" >European Community</td>\n",
       "      <td id=\"T_c90a1_row2_col1\" class=\"data row2 col1\" >3.150000</td>\n",
       "    </tr>\n",
       "    <tr>\n",
       "      <th id=\"T_c90a1_level0_row3\" class=\"row_heading level0 row3\" >2</th>\n",
       "      <td id=\"T_c90a1_row3_col0\" class=\"data row3 col0\" >Bahrain</td>\n",
       "      <td id=\"T_c90a1_row3_col1\" class=\"data row3 col1\" >2.950000</td>\n",
       "    </tr>\n",
       "    <tr>\n",
       "      <th id=\"T_c90a1_level0_row4\" class=\"row_heading level0 row4\" >7</th>\n",
       "      <td id=\"T_c90a1_row4_col0\" class=\"data row4 col0\" >Cyprus</td>\n",
       "      <td id=\"T_c90a1_row4_col1\" class=\"data row4 col1\" >2.950000</td>\n",
       "    </tr>\n",
       "    <tr>\n",
       "      <th id=\"T_c90a1_level0_row5\" class=\"row_heading level0 row5\" >27</th>\n",
       "      <td id=\"T_c90a1_row5_col0\" class=\"data row5 col0\" >RSA</td>\n",
       "      <td id=\"T_c90a1_row5_col1\" class=\"data row5 col1\" >2.950000</td>\n",
       "    </tr>\n",
       "    <tr>\n",
       "      <th id=\"T_c90a1_level0_row6\" class=\"row_heading level0 row6\" >22</th>\n",
       "      <td id=\"T_c90a1_row6_col0\" class=\"data row6 col0\" >Malta</td>\n",
       "      <td id=\"T_c90a1_row6_col1\" class=\"data row6 col1\" >2.950000</td>\n",
       "    </tr>\n",
       "    <tr>\n",
       "      <th id=\"T_c90a1_level0_row7\" class=\"row_heading level0 row7\" >6</th>\n",
       "      <td id=\"T_c90a1_row7_col0\" class=\"data row7 col0\" >Channel Islands</td>\n",
       "      <td id=\"T_c90a1_row7_col1\" class=\"data row7 col1\" >2.550000</td>\n",
       "    </tr>\n",
       "    <tr>\n",
       "      <th id=\"T_c90a1_level0_row8\" class=\"row_heading level0 row8\" >21</th>\n",
       "      <td id=\"T_c90a1_row8_col0\" class=\"data row8 col0\" >Lithuania</td>\n",
       "      <td id=\"T_c90a1_row8_col1\" class=\"data row8 col1\" >2.550000</td>\n",
       "    </tr>\n",
       "    <tr>\n",
       "      <th id=\"T_c90a1_level0_row9\" class=\"row_heading level0 row9\" >18</th>\n",
       "      <td id=\"T_c90a1_row9_col0\" class=\"data row9 col0\" >Italy</td>\n",
       "      <td id=\"T_c90a1_row9_col1\" class=\"data row9 col1\" >2.175000</td>\n",
       "    </tr>\n",
       "    <tr>\n",
       "      <th id=\"T_c90a1_level0_row10\" class=\"row_heading level0 row10\" >29</th>\n",
       "      <td id=\"T_c90a1_row10_col0\" class=\"data row10 col0\" >Singapore</td>\n",
       "      <td id=\"T_c90a1_row10_col1\" class=\"data row10 col1\" >2.100000</td>\n",
       "    </tr>\n",
       "    <tr>\n",
       "      <th id=\"T_c90a1_level0_row11\" class=\"row_heading level0 row11\" >10</th>\n",
       "      <td id=\"T_c90a1_row11_col0\" class=\"data row11 col0\" >EIRE</td>\n",
       "      <td id=\"T_c90a1_row11_col1\" class=\"data row11 col1\" >2.100000</td>\n",
       "    </tr>\n",
       "    <tr>\n",
       "      <th id=\"T_c90a1_level0_row12\" class=\"row_heading level0 row12\" >15</th>\n",
       "      <td id=\"T_c90a1_row12_col0\" class=\"data row12 col0\" >Greece</td>\n",
       "      <td id=\"T_c90a1_row12_col1\" class=\"data row12 col1\" >2.100000</td>\n",
       "    </tr>\n",
       "    <tr>\n",
       "      <th id=\"T_c90a1_level0_row13\" class=\"row_heading level0 row13\" >30</th>\n",
       "      <td id=\"T_c90a1_row13_col0\" class=\"data row13 col0\" >Spain</td>\n",
       "      <td id=\"T_c90a1_row13_col1\" class=\"data row13 col1\" >2.080000</td>\n",
       "    </tr>\n",
       "    <tr>\n",
       "      <th id=\"T_c90a1_level0_row14\" class=\"row_heading level0 row14\" >25</th>\n",
       "      <td id=\"T_c90a1_row14_col0\" class=\"data row14 col0\" >Poland</td>\n",
       "      <td id=\"T_c90a1_row14_col1\" class=\"data row14 col1\" >2.080000</td>\n",
       "    </tr>\n",
       "    <tr>\n",
       "      <th id=\"T_c90a1_level0_row15\" class=\"row_heading level0 row15\" >24</th>\n",
       "      <td id=\"T_c90a1_row15_col0\" class=\"data row15 col0\" >Norway</td>\n",
       "      <td id=\"T_c90a1_row15_col1\" class=\"data row15 col1\" >2.080000</td>\n",
       "    </tr>\n",
       "    <tr>\n",
       "      <th id=\"T_c90a1_level0_row16\" class=\"row_heading level0 row16\" >36</th>\n",
       "      <td id=\"T_c90a1_row16_col0\" class=\"data row16 col0\" >Unspecified</td>\n",
       "      <td id=\"T_c90a1_row16_col1\" class=\"data row16 col1\" >2.080000</td>\n",
       "    </tr>\n",
       "    <tr>\n",
       "      <th id=\"T_c90a1_level0_row17\" class=\"row_heading level0 row17\" >12</th>\n",
       "      <td id=\"T_c90a1_row17_col0\" class=\"data row17 col0\" >Finland</td>\n",
       "      <td id=\"T_c90a1_row17_col1\" class=\"data row17 col1\" >2.080000</td>\n",
       "    </tr>\n",
       "    <tr>\n",
       "      <th id=\"T_c90a1_level0_row18\" class=\"row_heading level0 row18\" >16</th>\n",
       "      <td id=\"T_c90a1_row18_col0\" class=\"data row18 col0\" >Iceland</td>\n",
       "      <td id=\"T_c90a1_row18_col1\" class=\"data row18 col1\" >2.015000</td>\n",
       "    </tr>\n",
       "    <tr>\n",
       "      <th id=\"T_c90a1_level0_row19\" class=\"row_heading level0 row19\" >35</th>\n",
       "      <td id=\"T_c90a1_row19_col0\" class=\"data row19 col0\" >United Kingdom</td>\n",
       "      <td id=\"T_c90a1_row19_col1\" class=\"data row19 col1\" >1.950000</td>\n",
       "    </tr>\n",
       "    <tr>\n",
       "      <th id=\"T_c90a1_level0_row20\" class=\"row_heading level0 row20\" >14</th>\n",
       "      <td id=\"T_c90a1_row20_col0\" class=\"data row20 col0\" >Germany</td>\n",
       "      <td id=\"T_c90a1_row20_col1\" class=\"data row20 col1\" >1.950000</td>\n",
       "    </tr>\n",
       "    <tr>\n",
       "      <th id=\"T_c90a1_level0_row21\" class=\"row_heading level0 row21\" >9</th>\n",
       "      <td id=\"T_c90a1_row21_col0\" class=\"data row21 col0\" >Denmark</td>\n",
       "      <td id=\"T_c90a1_row21_col1\" class=\"data row21 col1\" >1.950000</td>\n",
       "    </tr>\n",
       "    <tr>\n",
       "      <th id=\"T_c90a1_level0_row22\" class=\"row_heading level0 row22\" >1</th>\n",
       "      <td id=\"T_c90a1_row22_col0\" class=\"data row22 col0\" >Austria</td>\n",
       "      <td id=\"T_c90a1_row22_col1\" class=\"data row22 col1\" >1.950000</td>\n",
       "    </tr>\n",
       "    <tr>\n",
       "      <th id=\"T_c90a1_level0_row23\" class=\"row_heading level0 row23\" >3</th>\n",
       "      <td id=\"T_c90a1_row23_col0\" class=\"data row23 col0\" >Belgium</td>\n",
       "      <td id=\"T_c90a1_row23_col1\" class=\"data row23 col1\" >1.950000</td>\n",
       "    </tr>\n",
       "    <tr>\n",
       "      <th id=\"T_c90a1_level0_row24\" class=\"row_heading level0 row24\" >0</th>\n",
       "      <td id=\"T_c90a1_row24_col0\" class=\"data row24 col0\" >Australia</td>\n",
       "      <td id=\"T_c90a1_row24_col1\" class=\"data row24 col1\" >1.790000</td>\n",
       "    </tr>\n",
       "    <tr>\n",
       "      <th id=\"T_c90a1_level0_row25\" class=\"row_heading level0 row25\" >13</th>\n",
       "      <td id=\"T_c90a1_row25_col0\" class=\"data row25 col0\" >France</td>\n",
       "      <td id=\"T_c90a1_row25_col1\" class=\"data row25 col1\" >1.790000</td>\n",
       "    </tr>\n",
       "    <tr>\n",
       "      <th id=\"T_c90a1_level0_row26\" class=\"row_heading level0 row26\" >32</th>\n",
       "      <td id=\"T_c90a1_row26_col0\" class=\"data row26 col0\" >Switzerland</td>\n",
       "      <td id=\"T_c90a1_row26_col1\" class=\"data row26 col1\" >1.690000</td>\n",
       "    </tr>\n",
       "    <tr>\n",
       "      <th id=\"T_c90a1_level0_row27\" class=\"row_heading level0 row27\" >34</th>\n",
       "      <td id=\"T_c90a1_row27_col0\" class=\"data row27 col0\" >United Arab Emirates</td>\n",
       "      <td id=\"T_c90a1_row27_col1\" class=\"data row27 col1\" >1.670000</td>\n",
       "    </tr>\n",
       "    <tr>\n",
       "      <th id=\"T_c90a1_level0_row28\" class=\"row_heading level0 row28\" >5</th>\n",
       "      <td id=\"T_c90a1_row28_col0\" class=\"data row28 col0\" >Canada</td>\n",
       "      <td id=\"T_c90a1_row28_col1\" class=\"data row28 col1\" >1.650000</td>\n",
       "    </tr>\n",
       "    <tr>\n",
       "      <th id=\"T_c90a1_level0_row29\" class=\"row_heading level0 row29\" >17</th>\n",
       "      <td id=\"T_c90a1_row29_col0\" class=\"data row29 col0\" >Israel</td>\n",
       "      <td id=\"T_c90a1_row29_col1\" class=\"data row29 col1\" >1.650000</td>\n",
       "    </tr>\n",
       "    <tr>\n",
       "      <th id=\"T_c90a1_level0_row30\" class=\"row_heading level0 row30\" >28</th>\n",
       "      <td id=\"T_c90a1_row30_col0\" class=\"data row30 col0\" >Saudi Arabia</td>\n",
       "      <td id=\"T_c90a1_row30_col1\" class=\"data row30 col1\" >1.650000</td>\n",
       "    </tr>\n",
       "    <tr>\n",
       "      <th id=\"T_c90a1_level0_row31\" class=\"row_heading level0 row31\" >26</th>\n",
       "      <td id=\"T_c90a1_row31_col0\" class=\"data row31 col0\" >Portugal</td>\n",
       "      <td id=\"T_c90a1_row31_col1\" class=\"data row31 col1\" >1.650000</td>\n",
       "    </tr>\n",
       "    <tr>\n",
       "      <th id=\"T_c90a1_level0_row32\" class=\"row_heading level0 row32\" >31</th>\n",
       "      <td id=\"T_c90a1_row32_col0\" class=\"data row32 col0\" >Sweden</td>\n",
       "      <td id=\"T_c90a1_row32_col1\" class=\"data row32 col1\" >1.450000</td>\n",
       "    </tr>\n",
       "    <tr>\n",
       "      <th id=\"T_c90a1_level0_row33\" class=\"row_heading level0 row33\" >33</th>\n",
       "      <td id=\"T_c90a1_row33_col0\" class=\"data row33 col0\" >USA</td>\n",
       "      <td id=\"T_c90a1_row33_col1\" class=\"data row33 col1\" >1.450000</td>\n",
       "    </tr>\n",
       "    <tr>\n",
       "      <th id=\"T_c90a1_level0_row34\" class=\"row_heading level0 row34\" >23</th>\n",
       "      <td id=\"T_c90a1_row34_col0\" class=\"data row34 col0\" >Netherlands</td>\n",
       "      <td id=\"T_c90a1_row34_col1\" class=\"data row34 col1\" >1.450000</td>\n",
       "    </tr>\n",
       "    <tr>\n",
       "      <th id=\"T_c90a1_level0_row35\" class=\"row_heading level0 row35\" >19</th>\n",
       "      <td id=\"T_c90a1_row35_col0\" class=\"data row35 col0\" >Japan</td>\n",
       "      <td id=\"T_c90a1_row35_col1\" class=\"data row35 col1\" >1.450000</td>\n",
       "    </tr>\n",
       "    <tr>\n",
       "      <th id=\"T_c90a1_level0_row36\" class=\"row_heading level0 row36\" >8</th>\n",
       "      <td id=\"T_c90a1_row36_col0\" class=\"data row36 col0\" >Czech Republic</td>\n",
       "      <td id=\"T_c90a1_row36_col1\" class=\"data row36 col1\" >1.250000</td>\n",
       "    </tr>\n",
       "  </tbody>\n",
       "</table>\n"
      ],
      "text/plain": [
       "<pandas.io.formats.style.Styler at 0x7f260c811180>"
      ]
     },
     "execution_count": 119,
     "metadata": {},
     "output_type": "execute_result"
    }
   ],
   "source": [
    "# check country against unit price\n",
    "table = df.groupby(['Country'],as_index=False)['UnitPrice'].median()\n",
    "table = table.sort_values(by='UnitPrice',ascending=False)\n",
    "table.style.background_gradient(cmap='Reds')"
   ]
  },
  {
   "cell_type": "markdown",
   "id": "oHapAjJIR9tn",
   "metadata": {
    "id": "oHapAjJIR9tn"
   },
   "source": [
    "- Lebanon Items were the most expensive with \\$3.95 followed   by   brazil  with  \\$3.32.\n",
    "- Czech Republic was with the cheapest price of \\$1.25\n"
   ]
  },
  {
   "cell_type": "code",
   "execution_count": 120,
   "id": "dijc_FanO5jD",
   "metadata": {
    "colab": {
     "base_uri": "https://localhost:8080/"
    },
    "id": "dijc_FanO5jD",
    "outputId": "5ffce28f-8552-4aa5-f579-c262b4820b61"
   },
   "outputs": [
    {
     "data": {
      "text/plain": [
       "3877"
      ]
     },
     "execution_count": 120,
     "metadata": {},
     "output_type": "execute_result"
    }
   ],
   "source": [
    "# check unique in descriptions for the pr0duct\n",
    "#\n",
    "df.Description.nunique()\n"
   ]
  },
  {
   "cell_type": "code",
   "execution_count": 121,
   "id": "CIz62LMZTci0",
   "metadata": {
    "colab": {
     "base_uri": "https://localhost:8080/"
    },
    "id": "CIz62LMZTci0",
    "outputId": "f7ee464d-6458-4ccc-c2f5-2f338d91b7c6"
   },
   "outputs": [
    {
     "data": {
      "text/plain": [
       "3665"
      ]
     },
     "execution_count": 121,
     "metadata": {},
     "output_type": "execute_result"
    }
   ],
   "source": [
    "#unique for the stock\n",
    "df.StockCode.nunique()"
   ]
  },
  {
   "cell_type": "markdown",
   "id": "bQZBk8xFVJcj",
   "metadata": {
    "id": "bQZBk8xFVJcj"
   },
   "source": [
    "- From the above, we can identify an issue, In this case there need to be similarities in the number of counts for Description and StockCode since the description describes the Stock.\n",
    "- Since there are `3877 Descriptions` and `3665 StockCodes`, We are going to ensure each StockCode has its own descripption and those not with code be dropped."
   ]
  },
  {
   "cell_type": "code",
   "execution_count": 122,
   "id": "182P7Q46U6q2",
   "metadata": {
    "colab": {
     "base_uri": "https://localhost:8080/",
     "height": 112
    },
    "id": "182P7Q46U6q2",
    "outputId": "587a1c8b-c945-47d2-d68d-502c3ab41772"
   },
   "outputs": [
    {
     "data": {
      "text/html": [
       "\n",
       "  <div id=\"df-2b97256e-9273-496c-b4b8-81c7da8010bf\">\n",
       "    <div class=\"colab-df-container\">\n",
       "      <div>\n",
       "<style scoped>\n",
       "    .dataframe tbody tr th:only-of-type {\n",
       "        vertical-align: middle;\n",
       "    }\n",
       "\n",
       "    .dataframe tbody tr th {\n",
       "        vertical-align: top;\n",
       "    }\n",
       "\n",
       "    .dataframe thead th {\n",
       "        text-align: right;\n",
       "    }\n",
       "</style>\n",
       "<table border=\"1\" class=\"dataframe\">\n",
       "  <thead>\n",
       "    <tr style=\"text-align: right;\">\n",
       "      <th></th>\n",
       "      <th>Description</th>\n",
       "      <th>StockCode</th>\n",
       "    </tr>\n",
       "  </thead>\n",
       "  <tbody>\n",
       "    <tr>\n",
       "      <th>3395</th>\n",
       "      <td>SWISS CHALET TREE DECORATION</td>\n",
       "      <td>1</td>\n",
       "    </tr>\n",
       "    <tr>\n",
       "      <th>3250</th>\n",
       "      <td>SMALL GLASS SUNDAE DISH CLEAR</td>\n",
       "      <td>1</td>\n",
       "    </tr>\n",
       "  </tbody>\n",
       "</table>\n",
       "</div>\n",
       "      <button class=\"colab-df-convert\" onclick=\"convertToInteractive('df-2b97256e-9273-496c-b4b8-81c7da8010bf')\"\n",
       "              title=\"Convert this dataframe to an interactive table.\"\n",
       "              style=\"display:none;\">\n",
       "        \n",
       "  <svg xmlns=\"http://www.w3.org/2000/svg\" height=\"24px\"viewBox=\"0 0 24 24\"\n",
       "       width=\"24px\">\n",
       "    <path d=\"M0 0h24v24H0V0z\" fill=\"none\"/>\n",
       "    <path d=\"M18.56 5.44l.94 2.06.94-2.06 2.06-.94-2.06-.94-.94-2.06-.94 2.06-2.06.94zm-11 1L8.5 8.5l.94-2.06 2.06-.94-2.06-.94L8.5 2.5l-.94 2.06-2.06.94zm10 10l.94 2.06.94-2.06 2.06-.94-2.06-.94-.94-2.06-.94 2.06-2.06.94z\"/><path d=\"M17.41 7.96l-1.37-1.37c-.4-.4-.92-.59-1.43-.59-.52 0-1.04.2-1.43.59L10.3 9.45l-7.72 7.72c-.78.78-.78 2.05 0 2.83L4 21.41c.39.39.9.59 1.41.59.51 0 1.02-.2 1.41-.59l7.78-7.78 2.81-2.81c.8-.78.8-2.07 0-2.86zM5.41 20L4 18.59l7.72-7.72 1.47 1.35L5.41 20z\"/>\n",
       "  </svg>\n",
       "      </button>\n",
       "      \n",
       "  <style>\n",
       "    .colab-df-container {\n",
       "      display:flex;\n",
       "      flex-wrap:wrap;\n",
       "      gap: 12px;\n",
       "    }\n",
       "\n",
       "    .colab-df-convert {\n",
       "      background-color: #E8F0FE;\n",
       "      border: none;\n",
       "      border-radius: 50%;\n",
       "      cursor: pointer;\n",
       "      display: none;\n",
       "      fill: #1967D2;\n",
       "      height: 32px;\n",
       "      padding: 0 0 0 0;\n",
       "      width: 32px;\n",
       "    }\n",
       "\n",
       "    .colab-df-convert:hover {\n",
       "      background-color: #E2EBFA;\n",
       "      box-shadow: 0px 1px 2px rgba(60, 64, 67, 0.3), 0px 1px 3px 1px rgba(60, 64, 67, 0.15);\n",
       "      fill: #174EA6;\n",
       "    }\n",
       "\n",
       "    [theme=dark] .colab-df-convert {\n",
       "      background-color: #3B4455;\n",
       "      fill: #D2E3FC;\n",
       "    }\n",
       "\n",
       "    [theme=dark] .colab-df-convert:hover {\n",
       "      background-color: #434B5C;\n",
       "      box-shadow: 0px 1px 3px 1px rgba(0, 0, 0, 0.15);\n",
       "      filter: drop-shadow(0px 1px 2px rgba(0, 0, 0, 0.3));\n",
       "      fill: #FFFFFF;\n",
       "    }\n",
       "  </style>\n",
       "\n",
       "      <script>\n",
       "        const buttonEl =\n",
       "          document.querySelector('#df-2b97256e-9273-496c-b4b8-81c7da8010bf button.colab-df-convert');\n",
       "        buttonEl.style.display =\n",
       "          google.colab.kernel.accessAllowed ? 'block' : 'none';\n",
       "\n",
       "        async function convertToInteractive(key) {\n",
       "          const element = document.querySelector('#df-2b97256e-9273-496c-b4b8-81c7da8010bf');\n",
       "          const dataTable =\n",
       "            await google.colab.kernel.invokeFunction('convertToInteractive',\n",
       "                                                     [key], {});\n",
       "          if (!dataTable) return;\n",
       "\n",
       "          const docLinkHtml = 'Like what you see? Visit the ' +\n",
       "            '<a target=\"_blank\" href=https://colab.research.google.com/notebooks/data_table.ipynb>data table notebook</a>'\n",
       "            + ' to learn more about interactive tables.';\n",
       "          element.innerHTML = '';\n",
       "          dataTable['output_type'] = 'display_data';\n",
       "          await google.colab.output.renderOutput(dataTable, element);\n",
       "          const docLink = document.createElement('div');\n",
       "          docLink.innerHTML = docLinkHtml;\n",
       "          element.appendChild(docLink);\n",
       "        }\n",
       "      </script>\n",
       "    </div>\n",
       "  </div>\n",
       "  "
      ],
      "text/plain": [
       "                        Description  StockCode\n",
       "3395  SWISS CHALET TREE DECORATION           1\n",
       "3250  SMALL GLASS SUNDAE DISH CLEAR          1"
      ]
     },
     "execution_count": 122,
     "metadata": {},
     "output_type": "execute_result"
    }
   ],
   "source": [
    "# lets group against description and get its code\n",
    "stock_desc = df[[\"Description\",\"StockCode\"]].drop_duplicates()\n",
    "stock_desc = stock_desc.groupby([\"Description\"]).agg({\"StockCode\":\"count\"}).reset_index()\n",
    "stock_desc.sample(2)"
   ]
  },
  {
   "cell_type": "code",
   "execution_count": 123,
   "id": "6J0oU-_-WDFG",
   "metadata": {
    "id": "6J0oU-_-WDFG"
   },
   "outputs": [],
   "source": [
    "# rename the above stockCode\n",
    "stock_desc.rename(columns={'StockCode':'Code_Counter'},inplace=True)\n",
    "stock_desc = stock_desc[stock_desc[\"Code_Counter\"]>1]\n",
    "\n",
    "# we then delete any product with more than 1 Code_Counter which is StockCode\n",
    "df = df[~df[\"Description\"].isin(stock_desc[\"Description\"])]"
   ]
  },
  {
   "cell_type": "code",
   "execution_count": 124,
   "id": "UpOZOlrMWkUa",
   "metadata": {
    "colab": {
     "base_uri": "https://localhost:8080/"
    },
    "id": "UpOZOlrMWkUa",
    "outputId": "24c65331-7ab8-4914-ded5-11218b275774"
   },
   "outputs": [
    {
     "data": {
      "text/plain": [
       "(396945, 8)"
      ]
     },
     "execution_count": 124,
     "metadata": {},
     "output_type": "execute_result"
    }
   ],
   "source": [
    "df.shape"
   ]
  },
  {
   "cell_type": "code",
   "execution_count": 125,
   "id": "Ygb4GyaXgV1-",
   "metadata": {
    "colab": {
     "base_uri": "https://localhost:8080/",
     "height": 35
    },
    "id": "Ygb4GyaXgV1-",
    "outputId": "4b3c08ba-a504-4119-81ad-7d11788c1c4a"
   },
   "outputs": [
    {
     "data": {
      "application/vnd.google.colaboratory.intrinsic+json": {
       "type": "string"
      },
      "text/plain": [
       "'1.5.3'"
      ]
     },
     "execution_count": 125,
     "metadata": {},
     "output_type": "execute_result"
    }
   ],
   "source": [
    "pd.__version__"
   ]
  },
  {
   "cell_type": "code",
   "execution_count": 125,
   "id": "1bcKF3iNgaRe",
   "metadata": {
    "id": "1bcKF3iNgaRe"
   },
   "outputs": [],
   "source": []
  },
  {
   "cell_type": "code",
   "execution_count": 126,
   "id": "3kkfsnvuWlPn",
   "metadata": {
    "id": "3kkfsnvuWlPn"
   },
   "outputs": [],
   "source": [
    "# now lets group by stock code and get the results\n",
    "stock_desc = df[[\"Description\",\"StockCode\"]].drop_duplicates()\n",
    "stock_desc = stock_desc.groupby([\"StockCode\"]).agg({\"Description\":\"count\"}).reset_index()\n",
    "stock_desc.rename(columns={'Description':'desc_Counter'},inplace=True)\n",
    "\n",
    "# delete those with more than one Description\n",
    "stock_desc = stock_desc[stock_desc[\"desc_Counter\"] > 1]\n",
    "\n",
    "# get only required data with a single description\n",
    "df = df[~df[\"StockCode\"].isin(stock_desc[\"StockCode\"])]"
   ]
  },
  {
   "cell_type": "code",
   "execution_count": 127,
   "id": "Dhowuc3UXS44",
   "metadata": {
    "colab": {
     "base_uri": "https://localhost:8080/"
    },
    "id": "Dhowuc3UXS44",
    "outputId": "8a019f1a-94ac-4ac2-9a70-ccf8357b8302"
   },
   "outputs": [
    {
     "data": {
      "text/plain": [
       "(358543, 8)"
      ]
     },
     "execution_count": 127,
     "metadata": {},
     "output_type": "execute_result"
    }
   ],
   "source": [
    "df.shape"
   ]
  },
  {
   "cell_type": "code",
   "execution_count": 128,
   "id": "iZZehN4OXUdt",
   "metadata": {
    "colab": {
     "base_uri": "https://localhost:8080/"
    },
    "id": "iZZehN4OXUdt",
    "outputId": "32769f05-6f87-4dc0-a0f7-b534e55c4792"
   },
   "outputs": [
    {
     "name": "stdout",
     "output_type": "stream",
     "text": [
      "Total number of Descriptions are  3420\n",
      "Total number of StockCode are  3420\n"
     ]
    }
   ],
   "source": [
    "# now lets recheck the unique descriptions with their respective codes\n",
    "\n",
    "print(f\"Total number of Descriptions are  {df.Description.nunique()}\")\n",
    "print(f\"Total number of StockCode are  {df.StockCode.nunique()}\")"
   ]
  },
  {
   "cell_type": "markdown",
   "id": "tK-53hvkXpgV",
   "metadata": {
    "id": "tK-53hvkXpgV"
   },
   "source": [
    "- We now get similar number of counts in both columns\n",
    "\n",
    "- We are done processing the data\n",
    "\n",
    "## Apriori Algorithm Matrix Preparation\n",
    "- We need to use Functions in order to easen up the process\n"
   ]
  },
  {
   "cell_type": "code",
   "execution_count": 129,
   "id": "VhatkmOSZxht",
   "metadata": {
    "colab": {
     "base_uri": "https://localhost:8080/",
     "height": 337
    },
    "id": "VhatkmOSZxht",
    "outputId": "e378f969-e6ca-4f76-cd42-d429283034df"
   },
   "outputs": [
    {
     "data": {
      "text/html": [
       "\n",
       "  <div id=\"df-4c7a575a-c8cf-4ff8-84e6-6ae5d8cfb45b\">\n",
       "    <div class=\"colab-df-container\">\n",
       "      <div>\n",
       "<style scoped>\n",
       "    .dataframe tbody tr th:only-of-type {\n",
       "        vertical-align: middle;\n",
       "    }\n",
       "\n",
       "    .dataframe tbody tr th {\n",
       "        vertical-align: top;\n",
       "    }\n",
       "\n",
       "    .dataframe thead th {\n",
       "        text-align: right;\n",
       "    }\n",
       "</style>\n",
       "<table border=\"1\" class=\"dataframe\">\n",
       "  <thead>\n",
       "    <tr style=\"text-align: right;\">\n",
       "      <th></th>\n",
       "      <th>InvoiceNo</th>\n",
       "      <th>StockCode</th>\n",
       "      <th>Description</th>\n",
       "      <th>Quantity</th>\n",
       "      <th>InvoiceDate</th>\n",
       "      <th>UnitPrice</th>\n",
       "      <th>CustomerID</th>\n",
       "      <th>Country</th>\n",
       "    </tr>\n",
       "  </thead>\n",
       "  <tbody>\n",
       "    <tr>\n",
       "      <th>2</th>\n",
       "      <td>536365</td>\n",
       "      <td>84406B</td>\n",
       "      <td>CREAM CUPID HEARTS COAT HANGER</td>\n",
       "      <td>8</td>\n",
       "      <td>2010-12-01 08:26:00</td>\n",
       "      <td>2.75</td>\n",
       "      <td>17850.0</td>\n",
       "      <td>United Kingdom</td>\n",
       "    </tr>\n",
       "    <tr>\n",
       "      <th>3</th>\n",
       "      <td>536365</td>\n",
       "      <td>84029G</td>\n",
       "      <td>KNITTED UNION FLAG HOT WATER BOTTLE</td>\n",
       "      <td>6</td>\n",
       "      <td>2010-12-01 08:26:00</td>\n",
       "      <td>3.39</td>\n",
       "      <td>17850.0</td>\n",
       "      <td>United Kingdom</td>\n",
       "    </tr>\n",
       "    <tr>\n",
       "      <th>4</th>\n",
       "      <td>536365</td>\n",
       "      <td>84029E</td>\n",
       "      <td>RED WOOLLY HOTTIE WHITE HEART.</td>\n",
       "      <td>6</td>\n",
       "      <td>2010-12-01 08:26:00</td>\n",
       "      <td>3.39</td>\n",
       "      <td>17850.0</td>\n",
       "      <td>United Kingdom</td>\n",
       "    </tr>\n",
       "    <tr>\n",
       "      <th>5</th>\n",
       "      <td>536365</td>\n",
       "      <td>22752</td>\n",
       "      <td>SET 7 BABUSHKA NESTING BOXES</td>\n",
       "      <td>2</td>\n",
       "      <td>2010-12-01 08:26:00</td>\n",
       "      <td>7.65</td>\n",
       "      <td>17850.0</td>\n",
       "      <td>United Kingdom</td>\n",
       "    </tr>\n",
       "    <tr>\n",
       "      <th>6</th>\n",
       "      <td>536365</td>\n",
       "      <td>21730</td>\n",
       "      <td>GLASS STAR FROSTED T-LIGHT HOLDER</td>\n",
       "      <td>6</td>\n",
       "      <td>2010-12-01 08:26:00</td>\n",
       "      <td>4.25</td>\n",
       "      <td>17850.0</td>\n",
       "      <td>United Kingdom</td>\n",
       "    </tr>\n",
       "  </tbody>\n",
       "</table>\n",
       "</div>\n",
       "      <button class=\"colab-df-convert\" onclick=\"convertToInteractive('df-4c7a575a-c8cf-4ff8-84e6-6ae5d8cfb45b')\"\n",
       "              title=\"Convert this dataframe to an interactive table.\"\n",
       "              style=\"display:none;\">\n",
       "        \n",
       "  <svg xmlns=\"http://www.w3.org/2000/svg\" height=\"24px\"viewBox=\"0 0 24 24\"\n",
       "       width=\"24px\">\n",
       "    <path d=\"M0 0h24v24H0V0z\" fill=\"none\"/>\n",
       "    <path d=\"M18.56 5.44l.94 2.06.94-2.06 2.06-.94-2.06-.94-.94-2.06-.94 2.06-2.06.94zm-11 1L8.5 8.5l.94-2.06 2.06-.94-2.06-.94L8.5 2.5l-.94 2.06-2.06.94zm10 10l.94 2.06.94-2.06 2.06-.94-2.06-.94-.94-2.06-.94 2.06-2.06.94z\"/><path d=\"M17.41 7.96l-1.37-1.37c-.4-.4-.92-.59-1.43-.59-.52 0-1.04.2-1.43.59L10.3 9.45l-7.72 7.72c-.78.78-.78 2.05 0 2.83L4 21.41c.39.39.9.59 1.41.59.51 0 1.02-.2 1.41-.59l7.78-7.78 2.81-2.81c.8-.78.8-2.07 0-2.86zM5.41 20L4 18.59l7.72-7.72 1.47 1.35L5.41 20z\"/>\n",
       "  </svg>\n",
       "      </button>\n",
       "      \n",
       "  <style>\n",
       "    .colab-df-container {\n",
       "      display:flex;\n",
       "      flex-wrap:wrap;\n",
       "      gap: 12px;\n",
       "    }\n",
       "\n",
       "    .colab-df-convert {\n",
       "      background-color: #E8F0FE;\n",
       "      border: none;\n",
       "      border-radius: 50%;\n",
       "      cursor: pointer;\n",
       "      display: none;\n",
       "      fill: #1967D2;\n",
       "      height: 32px;\n",
       "      padding: 0 0 0 0;\n",
       "      width: 32px;\n",
       "    }\n",
       "\n",
       "    .colab-df-convert:hover {\n",
       "      background-color: #E2EBFA;\n",
       "      box-shadow: 0px 1px 2px rgba(60, 64, 67, 0.3), 0px 1px 3px 1px rgba(60, 64, 67, 0.15);\n",
       "      fill: #174EA6;\n",
       "    }\n",
       "\n",
       "    [theme=dark] .colab-df-convert {\n",
       "      background-color: #3B4455;\n",
       "      fill: #D2E3FC;\n",
       "    }\n",
       "\n",
       "    [theme=dark] .colab-df-convert:hover {\n",
       "      background-color: #434B5C;\n",
       "      box-shadow: 0px 1px 3px 1px rgba(0, 0, 0, 0.15);\n",
       "      filter: drop-shadow(0px 1px 2px rgba(0, 0, 0, 0.3));\n",
       "      fill: #FFFFFF;\n",
       "    }\n",
       "  </style>\n",
       "\n",
       "      <script>\n",
       "        const buttonEl =\n",
       "          document.querySelector('#df-4c7a575a-c8cf-4ff8-84e6-6ae5d8cfb45b button.colab-df-convert');\n",
       "        buttonEl.style.display =\n",
       "          google.colab.kernel.accessAllowed ? 'block' : 'none';\n",
       "\n",
       "        async function convertToInteractive(key) {\n",
       "          const element = document.querySelector('#df-4c7a575a-c8cf-4ff8-84e6-6ae5d8cfb45b');\n",
       "          const dataTable =\n",
       "            await google.colab.kernel.invokeFunction('convertToInteractive',\n",
       "                                                     [key], {});\n",
       "          if (!dataTable) return;\n",
       "\n",
       "          const docLinkHtml = 'Like what you see? Visit the ' +\n",
       "            '<a target=\"_blank\" href=https://colab.research.google.com/notebooks/data_table.ipynb>data table notebook</a>'\n",
       "            + ' to learn more about interactive tables.';\n",
       "          element.innerHTML = '';\n",
       "          dataTable['output_type'] = 'display_data';\n",
       "          await google.colab.output.renderOutput(dataTable, element);\n",
       "          const docLink = document.createElement('div');\n",
       "          docLink.innerHTML = docLinkHtml;\n",
       "          element.appendChild(docLink);\n",
       "        }\n",
       "      </script>\n",
       "    </div>\n",
       "  </div>\n",
       "  "
      ],
      "text/plain": [
       "  InvoiceNo StockCode                          Description  Quantity  \\\n",
       "2    536365    84406B       CREAM CUPID HEARTS COAT HANGER         8   \n",
       "3    536365    84029G  KNITTED UNION FLAG HOT WATER BOTTLE         6   \n",
       "4    536365    84029E       RED WOOLLY HOTTIE WHITE HEART.         6   \n",
       "5    536365     22752         SET 7 BABUSHKA NESTING BOXES         2   \n",
       "6    536365     21730    GLASS STAR FROSTED T-LIGHT HOLDER         6   \n",
       "\n",
       "          InvoiceDate  UnitPrice  CustomerID         Country  \n",
       "2 2010-12-01 08:26:00       2.75     17850.0  United Kingdom  \n",
       "3 2010-12-01 08:26:00       3.39     17850.0  United Kingdom  \n",
       "4 2010-12-01 08:26:00       3.39     17850.0  United Kingdom  \n",
       "5 2010-12-01 08:26:00       7.65     17850.0  United Kingdom  \n",
       "6 2010-12-01 08:26:00       4.25     17850.0  United Kingdom  "
      ]
     },
     "execution_count": 129,
     "metadata": {},
     "output_type": "execute_result"
    }
   ],
   "source": [
    "df.head()"
   ]
  },
  {
   "cell_type": "code",
   "execution_count": 130,
   "id": "J20jPh3hanQY",
   "metadata": {
    "id": "J20jPh3hanQY"
   },
   "outputs": [],
   "source": [
    "# delete that with stockcode as post\n",
    "df = df[~df[\"StockCode\"].str.contains(\"POST\", na=False)]"
   ]
  },
  {
   "cell_type": "code",
   "execution_count": 132,
   "id": "9UrjGLxCPEOE",
   "metadata": {
    "colab": {
     "base_uri": "https://localhost:8080/"
    },
    "id": "9UrjGLxCPEOE",
    "outputId": "2829b301-d524-485b-d0d0-d1ef96e1479e"
   },
   "outputs": [
    {
     "data": {
      "text/plain": [
       "(357444, 8)"
      ]
     },
     "execution_count": 132,
     "metadata": {},
     "output_type": "execute_result"
    }
   ],
   "source": [
    "df.shape"
   ]
  },
  {
   "cell_type": "code",
   "execution_count": 133,
   "id": "64R61l2MXoLH",
   "metadata": {
    "id": "64R61l2MXoLH"
   },
   "outputs": [],
   "source": [
    "\n",
    "def create_apriori_matric_for_products(data):\n",
    "    \"\"\"\n",
    "    This functions groups the data against its invoice number and stock code and then create a matrix between them.\n",
    "    @params: data: DataFrame - Data to be transformed\n",
    "    @return: A dataframe object with unstacked matrix\n",
    "    \"\"\"\n",
    "    return data.groupby(['InvoiceNo', \"StockCode\"])['Quantity'].sum().unstack().fillna(0).applymap(lambda val: 1 if val > 0 else 0)"
   ]
  },
  {
   "cell_type": "code",
   "execution_count": 134,
   "id": "H0YPR6MDZcfC",
   "metadata": {
    "colab": {
     "base_uri": "https://localhost:8080/",
     "height": 331
    },
    "id": "H0YPR6MDZcfC",
    "outputId": "c71535e9-f15e-4584-ac25-2ef11a1d54f3"
   },
   "outputs": [
    {
     "data": {
      "text/html": [
       "\n",
       "  <div id=\"df-7da3f268-f643-492f-b147-e2ebc1639cb2\">\n",
       "    <div class=\"colab-df-container\">\n",
       "      <div>\n",
       "<style scoped>\n",
       "    .dataframe tbody tr th:only-of-type {\n",
       "        vertical-align: middle;\n",
       "    }\n",
       "\n",
       "    .dataframe tbody tr th {\n",
       "        vertical-align: top;\n",
       "    }\n",
       "\n",
       "    .dataframe thead th {\n",
       "        text-align: right;\n",
       "    }\n",
       "</style>\n",
       "<table border=\"1\" class=\"dataframe\">\n",
       "  <thead>\n",
       "    <tr style=\"text-align: right;\">\n",
       "      <th>StockCode</th>\n",
       "      <th>10002</th>\n",
       "      <th>10125</th>\n",
       "      <th>11001</th>\n",
       "      <th>15034</th>\n",
       "      <th>15036</th>\n",
       "      <th>15039</th>\n",
       "      <th>16008</th>\n",
       "      <th>16011</th>\n",
       "      <th>16014</th>\n",
       "      <th>16016</th>\n",
       "      <th>...</th>\n",
       "      <th>90160D</th>\n",
       "      <th>90161B</th>\n",
       "      <th>90161C</th>\n",
       "      <th>90161D</th>\n",
       "      <th>90201A</th>\n",
       "      <th>90201B</th>\n",
       "      <th>90201C</th>\n",
       "      <th>90201D</th>\n",
       "      <th>90202D</th>\n",
       "      <th>M</th>\n",
       "    </tr>\n",
       "    <tr>\n",
       "      <th>InvoiceNo</th>\n",
       "      <th></th>\n",
       "      <th></th>\n",
       "      <th></th>\n",
       "      <th></th>\n",
       "      <th></th>\n",
       "      <th></th>\n",
       "      <th></th>\n",
       "      <th></th>\n",
       "      <th></th>\n",
       "      <th></th>\n",
       "      <th></th>\n",
       "      <th></th>\n",
       "      <th></th>\n",
       "      <th></th>\n",
       "      <th></th>\n",
       "      <th></th>\n",
       "      <th></th>\n",
       "      <th></th>\n",
       "      <th></th>\n",
       "      <th></th>\n",
       "      <th></th>\n",
       "    </tr>\n",
       "  </thead>\n",
       "  <tbody>\n",
       "    <tr>\n",
       "      <th>536527</th>\n",
       "      <td>0</td>\n",
       "      <td>0</td>\n",
       "      <td>0</td>\n",
       "      <td>0</td>\n",
       "      <td>0</td>\n",
       "      <td>0</td>\n",
       "      <td>0</td>\n",
       "      <td>0</td>\n",
       "      <td>0</td>\n",
       "      <td>0</td>\n",
       "      <td>...</td>\n",
       "      <td>0</td>\n",
       "      <td>0</td>\n",
       "      <td>0</td>\n",
       "      <td>0</td>\n",
       "      <td>0</td>\n",
       "      <td>0</td>\n",
       "      <td>0</td>\n",
       "      <td>0</td>\n",
       "      <td>0</td>\n",
       "      <td>0</td>\n",
       "    </tr>\n",
       "    <tr>\n",
       "      <th>536840</th>\n",
       "      <td>0</td>\n",
       "      <td>0</td>\n",
       "      <td>0</td>\n",
       "      <td>0</td>\n",
       "      <td>0</td>\n",
       "      <td>0</td>\n",
       "      <td>0</td>\n",
       "      <td>0</td>\n",
       "      <td>0</td>\n",
       "      <td>0</td>\n",
       "      <td>...</td>\n",
       "      <td>0</td>\n",
       "      <td>0</td>\n",
       "      <td>0</td>\n",
       "      <td>0</td>\n",
       "      <td>0</td>\n",
       "      <td>0</td>\n",
       "      <td>0</td>\n",
       "      <td>0</td>\n",
       "      <td>0</td>\n",
       "      <td>0</td>\n",
       "    </tr>\n",
       "    <tr>\n",
       "      <th>536861</th>\n",
       "      <td>0</td>\n",
       "      <td>0</td>\n",
       "      <td>0</td>\n",
       "      <td>0</td>\n",
       "      <td>0</td>\n",
       "      <td>0</td>\n",
       "      <td>0</td>\n",
       "      <td>0</td>\n",
       "      <td>0</td>\n",
       "      <td>0</td>\n",
       "      <td>...</td>\n",
       "      <td>0</td>\n",
       "      <td>0</td>\n",
       "      <td>0</td>\n",
       "      <td>0</td>\n",
       "      <td>0</td>\n",
       "      <td>0</td>\n",
       "      <td>0</td>\n",
       "      <td>0</td>\n",
       "      <td>0</td>\n",
       "      <td>0</td>\n",
       "    </tr>\n",
       "    <tr>\n",
       "      <th>536967</th>\n",
       "      <td>0</td>\n",
       "      <td>0</td>\n",
       "      <td>0</td>\n",
       "      <td>0</td>\n",
       "      <td>0</td>\n",
       "      <td>0</td>\n",
       "      <td>0</td>\n",
       "      <td>0</td>\n",
       "      <td>0</td>\n",
       "      <td>0</td>\n",
       "      <td>...</td>\n",
       "      <td>0</td>\n",
       "      <td>0</td>\n",
       "      <td>0</td>\n",
       "      <td>0</td>\n",
       "      <td>0</td>\n",
       "      <td>0</td>\n",
       "      <td>0</td>\n",
       "      <td>0</td>\n",
       "      <td>0</td>\n",
       "      <td>0</td>\n",
       "    </tr>\n",
       "    <tr>\n",
       "      <th>536983</th>\n",
       "      <td>0</td>\n",
       "      <td>0</td>\n",
       "      <td>0</td>\n",
       "      <td>0</td>\n",
       "      <td>0</td>\n",
       "      <td>0</td>\n",
       "      <td>0</td>\n",
       "      <td>0</td>\n",
       "      <td>0</td>\n",
       "      <td>1</td>\n",
       "      <td>...</td>\n",
       "      <td>0</td>\n",
       "      <td>0</td>\n",
       "      <td>0</td>\n",
       "      <td>0</td>\n",
       "      <td>0</td>\n",
       "      <td>0</td>\n",
       "      <td>0</td>\n",
       "      <td>0</td>\n",
       "      <td>0</td>\n",
       "      <td>0</td>\n",
       "    </tr>\n",
       "  </tbody>\n",
       "</table>\n",
       "<p>5 rows × 1522 columns</p>\n",
       "</div>\n",
       "      <button class=\"colab-df-convert\" onclick=\"convertToInteractive('df-7da3f268-f643-492f-b147-e2ebc1639cb2')\"\n",
       "              title=\"Convert this dataframe to an interactive table.\"\n",
       "              style=\"display:none;\">\n",
       "        \n",
       "  <svg xmlns=\"http://www.w3.org/2000/svg\" height=\"24px\"viewBox=\"0 0 24 24\"\n",
       "       width=\"24px\">\n",
       "    <path d=\"M0 0h24v24H0V0z\" fill=\"none\"/>\n",
       "    <path d=\"M18.56 5.44l.94 2.06.94-2.06 2.06-.94-2.06-.94-.94-2.06-.94 2.06-2.06.94zm-11 1L8.5 8.5l.94-2.06 2.06-.94-2.06-.94L8.5 2.5l-.94 2.06-2.06.94zm10 10l.94 2.06.94-2.06 2.06-.94-2.06-.94-.94-2.06-.94 2.06-2.06.94z\"/><path d=\"M17.41 7.96l-1.37-1.37c-.4-.4-.92-.59-1.43-.59-.52 0-1.04.2-1.43.59L10.3 9.45l-7.72 7.72c-.78.78-.78 2.05 0 2.83L4 21.41c.39.39.9.59 1.41.59.51 0 1.02-.2 1.41-.59l7.78-7.78 2.81-2.81c.8-.78.8-2.07 0-2.86zM5.41 20L4 18.59l7.72-7.72 1.47 1.35L5.41 20z\"/>\n",
       "  </svg>\n",
       "      </button>\n",
       "      \n",
       "  <style>\n",
       "    .colab-df-container {\n",
       "      display:flex;\n",
       "      flex-wrap:wrap;\n",
       "      gap: 12px;\n",
       "    }\n",
       "\n",
       "    .colab-df-convert {\n",
       "      background-color: #E8F0FE;\n",
       "      border: none;\n",
       "      border-radius: 50%;\n",
       "      cursor: pointer;\n",
       "      display: none;\n",
       "      fill: #1967D2;\n",
       "      height: 32px;\n",
       "      padding: 0 0 0 0;\n",
       "      width: 32px;\n",
       "    }\n",
       "\n",
       "    .colab-df-convert:hover {\n",
       "      background-color: #E2EBFA;\n",
       "      box-shadow: 0px 1px 2px rgba(60, 64, 67, 0.3), 0px 1px 3px 1px rgba(60, 64, 67, 0.15);\n",
       "      fill: #174EA6;\n",
       "    }\n",
       "\n",
       "    [theme=dark] .colab-df-convert {\n",
       "      background-color: #3B4455;\n",
       "      fill: #D2E3FC;\n",
       "    }\n",
       "\n",
       "    [theme=dark] .colab-df-convert:hover {\n",
       "      background-color: #434B5C;\n",
       "      box-shadow: 0px 1px 3px 1px rgba(0, 0, 0, 0.15);\n",
       "      filter: drop-shadow(0px 1px 2px rgba(0, 0, 0, 0.3));\n",
       "      fill: #FFFFFF;\n",
       "    }\n",
       "  </style>\n",
       "\n",
       "      <script>\n",
       "        const buttonEl =\n",
       "          document.querySelector('#df-7da3f268-f643-492f-b147-e2ebc1639cb2 button.colab-df-convert');\n",
       "        buttonEl.style.display =\n",
       "          google.colab.kernel.accessAllowed ? 'block' : 'none';\n",
       "\n",
       "        async function convertToInteractive(key) {\n",
       "          const element = document.querySelector('#df-7da3f268-f643-492f-b147-e2ebc1639cb2');\n",
       "          const dataTable =\n",
       "            await google.colab.kernel.invokeFunction('convertToInteractive',\n",
       "                                                     [key], {});\n",
       "          if (!dataTable) return;\n",
       "\n",
       "          const docLinkHtml = 'Like what you see? Visit the ' +\n",
       "            '<a target=\"_blank\" href=https://colab.research.google.com/notebooks/data_table.ipynb>data table notebook</a>'\n",
       "            + ' to learn more about interactive tables.';\n",
       "          element.innerHTML = '';\n",
       "          dataTable['output_type'] = 'display_data';\n",
       "          await google.colab.output.renderOutput(dataTable, element);\n",
       "          const docLink = document.createElement('div');\n",
       "          docLink.innerHTML = docLinkHtml;\n",
       "          element.appendChild(docLink);\n",
       "        }\n",
       "      </script>\n",
       "    </div>\n",
       "  </div>\n",
       "  "
      ],
      "text/plain": [
       "StockCode  10002  10125  11001  15034  15036  15039  16008  16011  16014  \\\n",
       "InvoiceNo                                                                  \n",
       "536527         0      0      0      0      0      0      0      0      0   \n",
       "536840         0      0      0      0      0      0      0      0      0   \n",
       "536861         0      0      0      0      0      0      0      0      0   \n",
       "536967         0      0      0      0      0      0      0      0      0   \n",
       "536983         0      0      0      0      0      0      0      0      0   \n",
       "\n",
       "StockCode  16016  ...  90160D  90161B  90161C  90161D  90201A  90201B  90201C  \\\n",
       "InvoiceNo         ...                                                           \n",
       "536527         0  ...       0       0       0       0       0       0       0   \n",
       "536840         0  ...       0       0       0       0       0       0       0   \n",
       "536861         0  ...       0       0       0       0       0       0       0   \n",
       "536967         0  ...       0       0       0       0       0       0       0   \n",
       "536983         1  ...       0       0       0       0       0       0       0   \n",
       "\n",
       "StockCode  90201D  90202D  M  \n",
       "InvoiceNo                     \n",
       "536527          0       0  0  \n",
       "536840          0       0  0  \n",
       "536861          0       0  0  \n",
       "536967          0       0  0  \n",
       "536983          0       0  0  \n",
       "\n",
       "[5 rows x 1522 columns]"
      ]
     },
     "execution_count": 134,
     "metadata": {},
     "output_type": "execute_result"
    }
   ],
   "source": [
    "# # lets test above function using sample data\n",
    "# we are going query only german data\n",
    "df_sample = df[df[\"Country\"] == \"Germany\"]\n",
    "\n",
    "invoice_group_sample = create_apriori_matric_for_products(df_sample)\n",
    "invoice_group_sample.head()"
   ]
  },
  {
   "cell_type": "code",
   "execution_count": 169,
   "id": "sllvCB6ZZp9p",
   "metadata": {
    "id": "sllvCB6ZZp9p"
   },
   "outputs": [],
   "source": [
    "\n",
    "#this function finds an item by its stock id\n",
    "def find_stock_by_id(data, stockCode):\n",
    "    \"\"\"\n",
    "    This functions return details of a product from stockcode given\n",
    "    @param : stockCode : A string representing the code of the stock\n",
    "    @returns\n",
    "        StockCode: a string represeting selected stock code\n",
    "        product_desc : Description of the product selected\n",
    "\n",
    "    \"\"\"\n",
    "    product_desc = data[data[\"StockCode\"] == stockCode][\"Description\"]\n",
    "    #print(product_desc)\n",
    "    product_desc = product_desc.unique()\n",
    "    #print(product_desc)\n",
    "    return stockCode, product_desc[0]"
   ]
  },
  {
   "cell_type": "code",
   "execution_count": 170,
   "id": "zj3y8sHyw8QX",
   "metadata": {
    "colab": {
     "base_uri": "https://localhost:8080/"
    },
    "id": "zj3y8sHyw8QX",
    "outputId": "a8984a84-922a-43ca-d8da-c184c79296e4"
   },
   "outputs": [
    {
     "data": {
      "text/plain": [
       "164"
      ]
     },
     "execution_count": 170,
     "metadata": {},
     "output_type": "execute_result"
    }
   ],
   "source": [
    "(df['StockCode'] == str(\"23286\")).sum()"
   ]
  },
  {
   "cell_type": "code",
   "execution_count": 171,
   "id": "AVIS-mfQwVGI",
   "metadata": {
    "colab": {
     "base_uri": "https://localhost:8080/"
    },
    "id": "AVIS-mfQwVGI",
    "outputId": "ec996ec1-0b76-42bc-f181-cae58e72ce4c"
   },
   "outputs": [
    {
     "data": {
      "text/plain": [
       "InvoiceNo              object\n",
       "StockCode              object\n",
       "Description            object\n",
       "Quantity                int64\n",
       "InvoiceDate    datetime64[ns]\n",
       "UnitPrice             float64\n",
       "CustomerID            float64\n",
       "Country                object\n",
       "dtype: object"
      ]
     },
     "execution_count": 171,
     "metadata": {},
     "output_type": "execute_result"
    }
   ],
   "source": [
    "df.dtypes"
   ]
  },
  {
   "cell_type": "code",
   "execution_count": 172,
   "id": "UoUxqFF1wYBl",
   "metadata": {
    "id": "UoUxqFF1wYBl"
   },
   "outputs": [],
   "source": [
    "df[\"InvoiceNo\"] = df[\"InvoiceNo\"].astype(str)\n",
    "df[\"StockCode\"] = df[\"StockCode\"].astype(str)"
   ]
  },
  {
   "cell_type": "code",
   "execution_count": 173,
   "id": "GFr-Ke6Sv5kw",
   "metadata": {
    "id": "GFr-Ke6Sv5kw"
   },
   "outputs": [],
   "source": [
    "# df['StockCode']"
   ]
  },
  {
   "cell_type": "code",
   "execution_count": 174,
   "id": "EfXn6ZSZwnLP",
   "metadata": {
    "colab": {
     "base_uri": "https://localhost:8080/"
    },
    "id": "EfXn6ZSZwnLP",
    "outputId": "3cff2d57-d617-4b21-fd4f-90daf3e081da"
   },
   "outputs": [
    {
     "data": {
      "text/plain": [
       "InvoiceNo              object\n",
       "StockCode              object\n",
       "Description            object\n",
       "Quantity                int64\n",
       "InvoiceDate    datetime64[ns]\n",
       "UnitPrice             float64\n",
       "CustomerID            float64\n",
       "Country                object\n",
       "dtype: object"
      ]
     },
     "execution_count": 174,
     "metadata": {},
     "output_type": "execute_result"
    }
   ],
   "source": [
    "df.dtypes"
   ]
  },
  {
   "cell_type": "code",
   "execution_count": 175,
   "id": "2Wm-eAiWaD0V",
   "metadata": {
    "colab": {
     "base_uri": "https://localhost:8080/"
    },
    "id": "2Wm-eAiWaD0V",
    "outputId": "24398fe8-ca01-4fdc-993d-e0f6b9e12ba4"
   },
   "outputs": [
    {
     "data": {
      "text/plain": [
       "580"
      ]
     },
     "execution_count": 175,
     "metadata": {},
     "output_type": "execute_result"
    }
   ],
   "source": [
    "# find_stock_by_id(df_sample, \"21755\")\n",
    "(df['StockCode'] == \"21755\").sum()"
   ]
  },
  {
   "cell_type": "markdown",
   "id": "6q9_xvUdaMzQ",
   "metadata": {
    "id": "6q9_xvUdaMzQ"
   },
   "source": [
    "\n",
    "### Determing the rule of association between different items.\n",
    "- We will caclulate the support values for every possible config of each items and use a thresshold of 2% (0.02) for the choosen one"
   ]
  },
  {
   "cell_type": "code",
   "execution_count": 176,
   "id": "K1z1YhFHaF6D",
   "metadata": {
    "id": "K1z1YhFHaF6D"
   },
   "outputs": [],
   "source": [
    "# get apriori frequency for items\n",
    "apriori_freq_data = apriori(\n",
    "    invoice_group_sample,\n",
    "    min_support=0.02,\n",
    "    use_colnames=True)"
   ]
  },
  {
   "cell_type": "code",
   "execution_count": 176,
   "id": "I25j52zvb59L",
   "metadata": {
    "id": "I25j52zvb59L"
   },
   "outputs": [],
   "source": []
  },
  {
   "cell_type": "code",
   "execution_count": 177,
   "id": "bu5_GdiwaTH1",
   "metadata": {
    "colab": {
     "base_uri": "https://localhost:8080/",
     "height": 302
    },
    "id": "bu5_GdiwaTH1",
    "outputId": "8ebec565-3049-416d-ec37-9dbca812536d"
   },
   "outputs": [
    {
     "data": {
      "text/html": [
       "\n",
       "  <div id=\"df-6e9e9973-7d40-4263-ab21-595a42bcedde\">\n",
       "    <div class=\"colab-df-container\">\n",
       "      <div>\n",
       "<style scoped>\n",
       "    .dataframe tbody tr th:only-of-type {\n",
       "        vertical-align: middle;\n",
       "    }\n",
       "\n",
       "    .dataframe tbody tr th {\n",
       "        vertical-align: top;\n",
       "    }\n",
       "\n",
       "    .dataframe thead th {\n",
       "        text-align: right;\n",
       "    }\n",
       "</style>\n",
       "<table border=\"1\" class=\"dataframe\">\n",
       "  <thead>\n",
       "    <tr style=\"text-align: right;\">\n",
       "      <th></th>\n",
       "      <th>antecedents</th>\n",
       "      <th>consequents</th>\n",
       "      <th>antecedent support</th>\n",
       "      <th>consequent support</th>\n",
       "      <th>support</th>\n",
       "      <th>confidence</th>\n",
       "      <th>lift</th>\n",
       "      <th>leverage</th>\n",
       "      <th>conviction</th>\n",
       "    </tr>\n",
       "  </thead>\n",
       "  <tbody>\n",
       "    <tr>\n",
       "      <th>575</th>\n",
       "      <td>(23291)</td>\n",
       "      <td>(23289)</td>\n",
       "      <td>0.024719</td>\n",
       "      <td>0.026966</td>\n",
       "      <td>0.024719</td>\n",
       "      <td>1.0</td>\n",
       "      <td>37.083333</td>\n",
       "      <td>0.024053</td>\n",
       "      <td>inf</td>\n",
       "    </tr>\n",
       "    <tr>\n",
       "      <th>570</th>\n",
       "      <td>(23285)</td>\n",
       "      <td>(23286)</td>\n",
       "      <td>0.024719</td>\n",
       "      <td>0.031461</td>\n",
       "      <td>0.024719</td>\n",
       "      <td>1.0</td>\n",
       "      <td>31.785714</td>\n",
       "      <td>0.023941</td>\n",
       "      <td>inf</td>\n",
       "    </tr>\n",
       "    <tr>\n",
       "      <th>583</th>\n",
       "      <td>(47590B)</td>\n",
       "      <td>(47590A)</td>\n",
       "      <td>0.020225</td>\n",
       "      <td>0.031461</td>\n",
       "      <td>0.020225</td>\n",
       "      <td>1.0</td>\n",
       "      <td>31.785714</td>\n",
       "      <td>0.019588</td>\n",
       "      <td>inf</td>\n",
       "    </tr>\n",
       "    <tr>\n",
       "      <th>774</th>\n",
       "      <td>(21668, 21670)</td>\n",
       "      <td>(21672)</td>\n",
       "      <td>0.020225</td>\n",
       "      <td>0.053933</td>\n",
       "      <td>0.020225</td>\n",
       "      <td>1.0</td>\n",
       "      <td>18.541667</td>\n",
       "      <td>0.019134</td>\n",
       "      <td>inf</td>\n",
       "    </tr>\n",
       "    <tr>\n",
       "      <th>792</th>\n",
       "      <td>(21673, 21668)</td>\n",
       "      <td>(21672)</td>\n",
       "      <td>0.020225</td>\n",
       "      <td>0.053933</td>\n",
       "      <td>0.020225</td>\n",
       "      <td>1.0</td>\n",
       "      <td>18.541667</td>\n",
       "      <td>0.019134</td>\n",
       "      <td>inf</td>\n",
       "    </tr>\n",
       "  </tbody>\n",
       "</table>\n",
       "</div>\n",
       "      <button class=\"colab-df-convert\" onclick=\"convertToInteractive('df-6e9e9973-7d40-4263-ab21-595a42bcedde')\"\n",
       "              title=\"Convert this dataframe to an interactive table.\"\n",
       "              style=\"display:none;\">\n",
       "        \n",
       "  <svg xmlns=\"http://www.w3.org/2000/svg\" height=\"24px\"viewBox=\"0 0 24 24\"\n",
       "       width=\"24px\">\n",
       "    <path d=\"M0 0h24v24H0V0z\" fill=\"none\"/>\n",
       "    <path d=\"M18.56 5.44l.94 2.06.94-2.06 2.06-.94-2.06-.94-.94-2.06-.94 2.06-2.06.94zm-11 1L8.5 8.5l.94-2.06 2.06-.94-2.06-.94L8.5 2.5l-.94 2.06-2.06.94zm10 10l.94 2.06.94-2.06 2.06-.94-2.06-.94-.94-2.06-.94 2.06-2.06.94z\"/><path d=\"M17.41 7.96l-1.37-1.37c-.4-.4-.92-.59-1.43-.59-.52 0-1.04.2-1.43.59L10.3 9.45l-7.72 7.72c-.78.78-.78 2.05 0 2.83L4 21.41c.39.39.9.59 1.41.59.51 0 1.02-.2 1.41-.59l7.78-7.78 2.81-2.81c.8-.78.8-2.07 0-2.86zM5.41 20L4 18.59l7.72-7.72 1.47 1.35L5.41 20z\"/>\n",
       "  </svg>\n",
       "      </button>\n",
       "      \n",
       "  <style>\n",
       "    .colab-df-container {\n",
       "      display:flex;\n",
       "      flex-wrap:wrap;\n",
       "      gap: 12px;\n",
       "    }\n",
       "\n",
       "    .colab-df-convert {\n",
       "      background-color: #E8F0FE;\n",
       "      border: none;\n",
       "      border-radius: 50%;\n",
       "      cursor: pointer;\n",
       "      display: none;\n",
       "      fill: #1967D2;\n",
       "      height: 32px;\n",
       "      padding: 0 0 0 0;\n",
       "      width: 32px;\n",
       "    }\n",
       "\n",
       "    .colab-df-convert:hover {\n",
       "      background-color: #E2EBFA;\n",
       "      box-shadow: 0px 1px 2px rgba(60, 64, 67, 0.3), 0px 1px 3px 1px rgba(60, 64, 67, 0.15);\n",
       "      fill: #174EA6;\n",
       "    }\n",
       "\n",
       "    [theme=dark] .colab-df-convert {\n",
       "      background-color: #3B4455;\n",
       "      fill: #D2E3FC;\n",
       "    }\n",
       "\n",
       "    [theme=dark] .colab-df-convert:hover {\n",
       "      background-color: #434B5C;\n",
       "      box-shadow: 0px 1px 3px 1px rgba(0, 0, 0, 0.15);\n",
       "      filter: drop-shadow(0px 1px 2px rgba(0, 0, 0, 0.3));\n",
       "      fill: #FFFFFF;\n",
       "    }\n",
       "  </style>\n",
       "\n",
       "      <script>\n",
       "        const buttonEl =\n",
       "          document.querySelector('#df-6e9e9973-7d40-4263-ab21-595a42bcedde button.colab-df-convert');\n",
       "        buttonEl.style.display =\n",
       "          google.colab.kernel.accessAllowed ? 'block' : 'none';\n",
       "\n",
       "        async function convertToInteractive(key) {\n",
       "          const element = document.querySelector('#df-6e9e9973-7d40-4263-ab21-595a42bcedde');\n",
       "          const dataTable =\n",
       "            await google.colab.kernel.invokeFunction('convertToInteractive',\n",
       "                                                     [key], {});\n",
       "          if (!dataTable) return;\n",
       "\n",
       "          const docLinkHtml = 'Like what you see? Visit the ' +\n",
       "            '<a target=\"_blank\" href=https://colab.research.google.com/notebooks/data_table.ipynb>data table notebook</a>'\n",
       "            + ' to learn more about interactive tables.';\n",
       "          element.innerHTML = '';\n",
       "          dataTable['output_type'] = 'display_data';\n",
       "          await google.colab.output.renderOutput(dataTable, element);\n",
       "          const docLink = document.createElement('div');\n",
       "          docLink.innerHTML = docLinkHtml;\n",
       "          element.appendChild(docLink);\n",
       "        }\n",
       "      </script>\n",
       "    </div>\n",
       "  </div>\n",
       "  "
      ],
      "text/plain": [
       "        antecedents consequents  antecedent support  consequent support  \\\n",
       "575         (23291)     (23289)            0.024719            0.026966   \n",
       "570         (23285)     (23286)            0.024719            0.031461   \n",
       "583        (47590B)    (47590A)            0.020225            0.031461   \n",
       "774  (21668, 21670)     (21672)            0.020225            0.053933   \n",
       "792  (21673, 21668)     (21672)            0.020225            0.053933   \n",
       "\n",
       "      support  confidence       lift  leverage  conviction  \n",
       "575  0.024719         1.0  37.083333  0.024053         inf  \n",
       "570  0.024719         1.0  31.785714  0.023941         inf  \n",
       "583  0.020225         1.0  31.785714  0.019588         inf  \n",
       "774  0.020225         1.0  18.541667  0.019134         inf  \n",
       "792  0.020225         1.0  18.541667  0.019134         inf  "
      ]
     },
     "execution_count": 177,
     "metadata": {},
     "output_type": "execute_result"
    }
   ],
   "source": [
    "association_rules_in_market = association_rules(\n",
    "    apriori_freq_data,\n",
    "    metric=\"lift\",\n",
    "    min_threshold=0.01)\n",
    "\n",
    "association_rules_in_market.sort_values(['confidence', 'lift'], ascending =[False, False]).head(5)"
   ]
  },
  {
   "cell_type": "code",
   "execution_count": 178,
   "id": "A64hKUjG93Vp",
   "metadata": {
    "colab": {
     "base_uri": "https://localhost:8080/"
    },
    "id": "A64hKUjG93Vp",
    "outputId": "32876c60-d0a3-4e29-e0c6-ffaf5f6b6121"
   },
   "outputs": [
    {
     "name": "stdout",
     "output_type": "stream",
     "text": [
      "23291\n",
      "21668\n",
      "21670\n",
      "21673\n",
      "21668\n"
     ]
    }
   ],
   "source": [
    "x = [(23291,),(21668, 21670)\t,(21673, 21668)]\n",
    "\n",
    "for i, val in enumerate(x):\n",
    "    for val_j in list(val):\n",
    "        print(val_j)\n",
    "\n",
    "\n",
    "for idx, product in enumerate(sorted_association_rules_in_market[\"antecedents\"]):\n",
    "    #since we saw antecent as tuple we need to get each item id\n",
    "    for j in list(product):\n",
    "        if str(j) == \"23286\":\n",
    "            #lets get the id of current index\n",
    "            items_recommended.append(list(sorted_association_rules_in_market.iloc[idx][\"consequents\"])[0])\n",
    "            #remove duplicates using dictionary as key\n",
    "            items_recommended = list( dict.fromkeys(items_recommended))"
   ]
  },
  {
   "cell_type": "markdown",
   "id": "b_AhuYpxazN-",
   "metadata": {
    "id": "b_AhuYpxazN-"
   },
   "source": [
    "### Some of the metrics from the above Association includes\n",
    "\n",
    "- Antecedent- If X is called this way computes the proportion of transactions that contain the antecedent X.\n",
    "- consequent support: If Y is called consequent, 'consequent support' computes the proportion of transactions that contain the antecedent Y.\n",
    "- support: 'support' computes the proportion of transactions that contain the antecedent X and Y.\n",
    "- confidence: Probability of buying Y when X is bought.\n",
    "- lift: Represents how many times the probability of getting Y increases when X is received."
   ]
  },
  {
   "cell_type": "code",
   "execution_count": 179,
   "id": "bVFcHdvoaYHa",
   "metadata": {
    "id": "bVFcHdvoaYHa"
   },
   "outputs": [],
   "source": [
    "sorted_association_rules_in_market = association_rules_in_market.sort_values(['confidence', 'lift'], ascending =[False, False])"
   ]
  },
  {
   "cell_type": "code",
   "execution_count": 179,
   "id": "r63YkqSla74B",
   "metadata": {
    "id": "r63YkqSla74B"
   },
   "outputs": [],
   "source": []
  },
  {
   "cell_type": "markdown",
   "id": "AvIt4flwbDfn",
   "metadata": {
    "id": "AvIt4flwbDfn"
   },
   "source": [
    "\n",
    "- We then need to develop strategy in which product will be recommended ie  When a customer buy product from Stock X, We sort it according the the probs that he have of buying product with Stock ID Y. This is through the use of `CONFIDENCE`. We can also use `LIFT` as how many times the probability of getting Y increases when X is received.\n",
    "- In our case, we will use `HYBRID FILTERING` through the use of `SUPPORT, LIFT and CONFIDENCE`.\n",
    "\n",
    "- General RULE will be `If a user buys a product with X ID, which products will he be recommended next?`"
   ]
  },
  {
   "cell_type": "code",
   "execution_count": 180,
   "id": "YD7jQWj4bHbD",
   "metadata": {
    "colab": {
     "base_uri": "https://localhost:8080/"
    },
    "id": "YD7jQWj4bHbD",
    "outputId": "b4d57cbf-04b1-4fd7-aed9-5cd8cb754ea0"
   },
   "outputs": [
    {
     "name": "stdout",
     "output_type": "stream",
     "text": [
      "(23285, 'PINK VINTAGE SPOT BEAKER')\n",
      "(23287, 'RED VINTAGE SPOT BEAKER')\n"
     ]
    }
   ],
   "source": [
    "# we start by writing recommendation rules from here.\n",
    "#we first get all the antecentednt from association rules and query item ids similar to the one a user bourgt\n",
    "\n",
    "#check for 23286\n",
    "# lets try recomment a user who has bought food with stockCode 23286\n",
    "items_recommended = []\n",
    "# iterate through all antecendents\n",
    "for idx, product in enumerate(sorted_association_rules_in_market[\"antecedents\"]):\n",
    "    #since we saw antecent as tuple we need to get each item id\n",
    "    for j in list(product):\n",
    "        if str(j) == \"23286\":\n",
    "            #lets get the id of current index\n",
    "            items_recommended.append(list(sorted_association_rules_in_market.iloc[idx][\"consequents\"])[0])\n",
    "            #remove duplicates using dictionary as key\n",
    "            items_recommended = list( dict.fromkeys(items_recommended))\n",
    "\n",
    "# print top 10 recommented products\n",
    "for pro_id in items_recommended[:10]:\n",
    "  #query the product by its id\n",
    "  print(find_stock_by_id(df_sample, pro_id))"
   ]
  },
  {
   "cell_type": "markdown",
   "id": "83D5Sen7nUd5",
   "metadata": {
    "id": "83D5Sen7nUd5",
    "jupyter": {
     "source_hidden": true
    }
   },
   "source": [
    "- We have been able to create a recommentation for a product with id\n",
    "- For easier working and utilization of the system, I will create a class where it object can be used to query recommended results from id passed.\n"
   ]
  },
  {
   "cell_type": "code",
   "execution_count": 186,
   "id": "F0OYVSd8bLSm",
   "metadata": {
    "id": "F0OYVSd8bLSm"
   },
   "outputs": [],
   "source": [
    "class AprioriRecommentor:\n",
    "    def __init__(self, data, min_support_val):\n",
    "        self.data = data\n",
    "        self.min_support_val =min_support_val\n",
    "        #create association rule\n",
    "        self.sorted_association_rules_in_market = self.create_Aprioli_ARL_rules()\n",
    "\n",
    "    def create_apriori_matric_for_products(self):\n",
    "        \"\"\"\n",
    "        This functions groups the data against its invoice number and stock code and then create a matrix between them.\n",
    "        @params: data: DataFrame - Data to be transformed\n",
    "        @return: A dataframe object with unstacked matrix\n",
    "        \"\"\"\n",
    "        return self.data.groupby(['InvoiceNo', \"StockCode\"])['Quantity'].sum().unstack().fillna(0).applymap(lambda val: 1 if val > 0 else 0)\n",
    "\n",
    "\n",
    "    #this function finds an item by its stock id\n",
    "    def find_stock_by_id(self, stockCode):\n",
    "        \"\"\"\n",
    "        This functions return details of a product from stockcode given\n",
    "        @param : stockCode : A string representing the code of the stock\n",
    "        @returns\n",
    "            StockCode: a string represeting selected stock code\n",
    "            product_desc : Description of the product selected\n",
    "\n",
    "        \"\"\"\n",
    "        product_desc = self.data[self.data[\"StockCode\"] == stockCode][\"Description\"].unique()\n",
    "        #print(product_desc)\n",
    "        return stockCode, product_desc[0]\n",
    "\n",
    "    def create_Aprioli_ARL_rules(self):\n",
    "        invoice_product_matrix = self.create_apriori_matric_for_products()\n",
    "        # get apriori frequency for items\n",
    "        apriori_freq_data = apriori(\n",
    "            invoice_product_matrix,\n",
    "            min_support= self.min_support_val,\n",
    "            use_colnames=True)\n",
    "        association_rules_in_market = association_rules(\n",
    "            apriori_freq_data,\n",
    "            metric=\"lift\",\n",
    "            min_threshold=self.min_support_val)\n",
    "        #sort these rules\n",
    "        sorted_association_rules_in_market = association_rules_in_market.sort_values(['confidence', 'lift'], ascending =[False, False])\n",
    "\n",
    "        return sorted_association_rules_in_market\n",
    "\n",
    "    def recommend_product_to_user(self, prod_id, max_recommendent_items =10):\n",
    "        # lets try recomment a user who has bought food with stockCode `prod_id`\n",
    "        items_recommended = []\n",
    "        # iterate through all antecendents\n",
    "        for idx, product in enumerate(self.sorted_association_rules_in_market[\"antecedents\"]):\n",
    "            #since we saw antecent as tuple we need to get each item id\n",
    "            for j in list(product):\n",
    "                if str(j) == str(prod_id):\n",
    "                    #lets get the id of current index\n",
    "                    items_recommended.append(list(self.sorted_association_rules_in_market.iloc[idx][\"consequents\"])[0])\n",
    "                    #remove duplicates using dictionary as key\n",
    "                    items_recommended = list( dict.fromkeys(items_recommended))\n",
    "\n",
    "\n",
    "        return items_recommended[:max_recommendent_items]\n",
    "\n",
    "\n",
    "    def show_products_recommended_to_user(self,prod_id, max_recommendent_items=10):\n",
    "        #check if product id is present\n",
    "        if str(prod_id) in list(self.data[\"StockCode\"].astype(\"str\").unique()):\n",
    "            print(\"We fouund some products...\")\n",
    "            #get the recommended list\n",
    "            recommended_product_list = self.recommend_product_to_user(str(prod_id), max_recommendent_items)\n",
    "            #check if there was any product recommended to the user i.e if list is empty\n",
    "            if len(recommended_product_list) == 0:\n",
    "                return {\"Product_Code\":prod_id,\"data\":[], \"advice\":\"There was no any product that can be recommended to this user\"}\n",
    "            else:\n",
    "                res = []\n",
    "                for index in range(0, len(recommended_product_list)):\n",
    "                    #print(recommended_product_list, \"Recommended list\")\n",
    "                    curr_product = self.find_stock_by_id(recommended_product_list[index])\n",
    "                    res.append({\n",
    "                        \"Product_code\": curr_product[0],\n",
    "                        \"Description\": curr_product[1]\n",
    "                    })\n",
    "\n",
    "                return {\"Product_Code\":prod_id,\"data\":res, \"advice\":\"We have the following products recommended for you\"}\n",
    "\n",
    "        else:\n",
    "            return {\"Product_Code\":prod_id,\"data\":[], \"advice\":f\"Code  {prod_id} was invalid as it is not in the stock\"}\n",
    "\n",
    "\n"
   ]
  },
  {
   "cell_type": "code",
   "execution_count": 187,
   "id": "uRxB3BlsbOJi",
   "metadata": {
    "id": "uRxB3BlsbOJi"
   },
   "outputs": [],
   "source": [
    "# let test it\n",
    "aprioli_ARL_recommended_object = AprioriRecommentor(df, 0.01)"
   ]
  },
  {
   "cell_type": "code",
   "execution_count": 188,
   "id": "50gxbDdRxroH",
   "metadata": {
    "colab": {
     "base_uri": "https://localhost:8080/"
    },
    "id": "50gxbDdRxroH",
    "outputId": "7e99a1b2-1354-41b2-8147-22d7640f2a67"
   },
   "outputs": [
    {
     "name": "stdout",
     "output_type": "stream",
     "text": [
      "We fouund some products...\n"
     ]
    },
    {
     "data": {
      "text/plain": [
       "{'Product_Code': 22326,\n",
       " 'data': [{'Product_code': '22328',\n",
       "   'Description': 'ROUND SNACK BOXES SET OF 4 FRUITS '}],\n",
       " 'advice': 'We have the following products recommended for you'}"
      ]
     },
     "execution_count": 188,
     "metadata": {},
     "output_type": "execute_result"
    }
   ],
   "source": [
    "# check recommendation for product 22326\n",
    "aprioli_ARL_recommended_object.show_products_recommended_to_user(22326)\n"
   ]
  },
  {
   "cell_type": "code",
   "execution_count": 83,
   "id": "xQefR8Gs4vw8",
   "metadata": {
    "colab": {
     "base_uri": "https://localhost:8080/"
    },
    "id": "xQefR8Gs4vw8",
    "outputId": "419385c8-d03e-4f04-ffa2-7d922aae5b41"
   },
   "outputs": [
    {
     "name": "stdout",
     "output_type": "stream",
     "text": [
      "['SET/6 RED SPOTTY PAPER PLATES']\n",
      "['SET/20 RED RETROSPOT PAPER NAPKINS ']\n"
     ]
    },
    {
     "data": {
      "text/plain": [
       "{'Product_Code': 21086,\n",
       " 'data': [{'Product_code': 21094,\n",
       "   'Description': array(['SET/6 RED SPOTTY PAPER PLATES'], dtype=object)},\n",
       "  {'Product_code': 21080,\n",
       "   'Description': array(['SET/20 RED RETROSPOT PAPER NAPKINS '], dtype=object)}],\n",
       " 'advice': 'We have the following products recommended for you'}"
      ]
     },
     "execution_count": 83,
     "metadata": {},
     "output_type": "execute_result"
    }
   ],
   "source": [
    "# check recommendation for product 21086\n",
    "aprioli_ARL_recommended_object.show_products_recommended_to_user(21086)"
   ]
  },
  {
   "cell_type": "code",
   "execution_count": 189,
   "id": "eK4pmo4LxrtC",
   "metadata": {
    "colab": {
     "base_uri": "https://localhost:8080/"
    },
    "id": "eK4pmo4LxrtC",
    "outputId": "ac3d9866-47a1-48e8-ba3e-2aa5a22680c8"
   },
   "outputs": [
    {
     "data": {
      "text/plain": [
       "{'Product_Code': 21,\n",
       " 'data': [],\n",
       " 'advice': 'Code  21 was invalid as it is not in the stock'}"
      ]
     },
     "execution_count": 189,
     "metadata": {},
     "output_type": "execute_result"
    }
   ],
   "source": [
    "# check recommendation for product 21\n",
    "aprioli_ARL_recommended_object.show_products_recommended_to_user(21)"
   ]
  },
  {
   "cell_type": "code",
   "execution_count": 190,
   "id": "AHf1xJVRbg1Y",
   "metadata": {
    "colab": {
     "base_uri": "https://localhost:8080/"
    },
    "id": "AHf1xJVRbg1Y",
    "outputId": "f2d45957-744c-453c-fa26-e0bd647409da"
   },
   "outputs": [
    {
     "name": "stdout",
     "output_type": "stream",
     "text": [
      "We fouund some products...\n"
     ]
    },
    {
     "data": {
      "text/plain": [
       "{'Product_Code': 22112,\n",
       " 'data': [{'Product_code': '22835',\n",
       "   'Description': 'HOT WATER BOTTLE I AM SO POORLY'},\n",
       "  {'Product_code': '22114',\n",
       "   'Description': 'HOT WATER BOTTLE TEA AND SYMPATHY'},\n",
       "  {'Product_code': '23355', 'Description': 'HOT WATER BOTTLE KEEP CALM'},\n",
       "  {'Product_code': '22111', 'Description': 'SCOTTIE DOG HOT WATER BOTTLE'}],\n",
       " 'advice': 'We have the following products recommended for you'}"
      ]
     },
     "execution_count": 190,
     "metadata": {},
     "output_type": "execute_result"
    }
   ],
   "source": [
    "# check recommendation for product 22112\n",
    "aprioli_ARL_recommended_object.show_products_recommended_to_user(22112)"
   ]
  },
  {
   "cell_type": "code",
   "execution_count": 191,
   "id": "V8xu2S-EbpIF",
   "metadata": {
    "colab": {
     "base_uri": "https://localhost:8080/"
    },
    "id": "V8xu2S-EbpIF",
    "outputId": "f9495b93-27c7-44a6-9d9d-ed8aff954c31"
   },
   "outputs": [
    {
     "name": "stdout",
     "output_type": "stream",
     "text": [
      "We fouund some products...\n"
     ]
    },
    {
     "data": {
      "text/plain": [
       "{'Product_Code': 20712,\n",
       " 'data': [{'Product_code': '85099B', 'Description': 'JUMBO BAG RED RETROSPOT'},\n",
       "  {'Product_code': '22386', 'Description': 'JUMBO BAG PINK POLKADOT'}],\n",
       " 'advice': 'We have the following products recommended for you'}"
      ]
     },
     "execution_count": 191,
     "metadata": {},
     "output_type": "execute_result"
    }
   ],
   "source": [
    "# check recommendation for product 20712\n",
    "aprioli_ARL_recommended_object.show_products_recommended_to_user(20712)"
   ]
  },
  {
   "cell_type": "code",
   "execution_count": 192,
   "id": "wk9YFiT5pCFC",
   "metadata": {
    "id": "wk9YFiT5pCFC"
   },
   "outputs": [],
   "source": [
    "# !pip freeze"
   ]
  },
  {
   "cell_type": "markdown",
   "id": "F6fMuYz15Eqi",
   "metadata": {
    "id": "F6fMuYz15Eqi"
   },
   "source": [
    "- We have been able to build this recommendor system and it is working correctly.\n",
    "- Lets now save the object into a pickle file for usage later."
   ]
  },
  {
   "cell_type": "code",
   "execution_count": 194,
   "id": "tcEHwO8X5QDl",
   "metadata": {
    "colab": {
     "base_uri": "https://localhost:8080/"
    },
    "id": "tcEHwO8X5QDl",
    "outputId": "167172d9-b6e8-438e-a235-5fa83795b4ce"
   },
   "outputs": [
    {
     "name": "stdout",
     "output_type": "stream",
     "text": [
      "Finished saving....\n"
     ]
    }
   ],
   "source": [
    "# import pickle\n",
    "\n",
    "# with open(\"recommender_model.pkl\", \"wb\") as rec_object:\n",
    "#     pickle.dump(aprioli_ARL_recommended_object, rec_object)\n",
    "#     rec_object.close()\n",
    "\n",
    "\n",
    "\n",
    "pd.to_pickle(aprioli_ARL_recommended_object, \"final_model.pkl\")\n",
    "\n",
    "print(\"Finished saving....\")"
   ]
  },
  {
   "cell_type": "code",
   "execution_count": 194,
   "id": "O5Q0MlGD5fXv",
   "metadata": {
    "id": "O5Q0MlGD5fXv"
   },
   "outputs": [],
   "source": []
  },
  {
   "cell_type": "code",
   "execution_count": 194,
   "id": "6PstsjZIQTcL",
   "metadata": {
    "id": "6PstsjZIQTcL"
   },
   "outputs": [],
   "source": []
  },
  {
   "cell_type": "code",
   "execution_count": 196,
   "id": "3OSgtFXCQTfb",
   "metadata": {
    "colab": {
     "base_uri": "https://localhost:8080/"
    },
    "id": "3OSgtFXCQTfb",
    "outputId": "e5e112fd-fdef-45c3-f9e4-90e34ec9eef9"
   },
   "outputs": [
    {
     "name": "stdout",
     "output_type": "stream",
     "text": [
      "We fouund some products...\n",
      "{'Product_Code': 20712, 'data': [{'Product_code': '85099B', 'Description': 'JUMBO BAG RED RETROSPOT'}, {'Product_code': '22386', 'Description': 'JUMBO BAG PINK POLKADOT'}], 'advice': 'We have the following products recommended for you'}\n"
     ]
    }
   ],
   "source": [
    "\n",
    "with open(\"./final_model.pkl\", \"rb\") as model_object:\n",
    "    model = pickle.load(model_object)\n",
    "\n",
    "    model_object.close()\n",
    "\n",
    "\n",
    "res = model.show_products_recommended_to_user(20712)\n",
    "\n",
    "print(res)"
   ]
  },
  {
   "cell_type": "code",
   "execution_count": 197,
   "id": "jFnlK6vuQUhD",
   "metadata": {
    "colab": {
     "base_uri": "https://localhost:8080/",
     "height": 35
    },
    "id": "jFnlK6vuQUhD",
    "outputId": "83de65dd-2308-4261-fe0e-978d224431f3"
   },
   "outputs": [
    {
     "data": {
      "application/vnd.google.colaboratory.intrinsic+json": {
       "type": "string"
      },
      "text/plain": [
       "'1.5.3'"
      ]
     },
     "execution_count": 197,
     "metadata": {},
     "output_type": "execute_result"
    }
   ],
   "source": [
    "pd.__version__"
   ]
  },
  {
   "cell_type": "code",
   "execution_count": 197,
   "id": "TKb0na3nRl7D",
   "metadata": {
    "id": "TKb0na3nRl7D"
   },
   "outputs": [],
   "source": []
  },
  {
   "cell_type": "code",
   "execution_count": 57,
   "id": "v_6cCiKFRom6",
   "metadata": {
    "id": "v_6cCiKFRom6"
   },
   "outputs": [],
   "source": []
  }
 ],
 "metadata": {
  "colab": {
   "provenance": []
  },
  "kernelspec": {
   "display_name": "Python 3 (ipykernel)",
   "language": "python",
   "name": "python3"
  },
  "language_info": {
   "codemirror_mode": {
    "name": "ipython",
    "version": 3
   },
   "file_extension": ".py",
   "mimetype": "text/x-python",
   "name": "python",
   "nbconvert_exporter": "python",
   "pygments_lexer": "ipython3",
   "version": "3.11.1"
  }
 },
 "nbformat": 4,
 "nbformat_minor": 5
}
